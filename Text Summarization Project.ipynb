{
 "cells": [
  {
   "cell_type": "markdown",
   "id": "e06d625c",
   "metadata": {},
   "source": [
    "# Load and Prepare Dataset"
   ]
  },
  {
   "cell_type": "code",
   "execution_count": 2,
   "id": "71173c80",
   "metadata": {},
   "outputs": [],
   "source": [
    "from datasets import load_dataset\n",
    "\n",
    "# load the dataset from huggingface in streaming mode and shuffle it\n",
    "cnn_data = load_dataset(\n",
    "    'cnn_dailymail','3.0.0',\n",
    "    split='train',\n",
    "    streaming=True\n",
    ").shuffle(seed=960)"
   ]
  },
  {
   "cell_type": "code",
   "execution_count": 3,
   "id": "ae39e4db",
   "metadata": {},
   "outputs": [
    {
     "data": {
      "text/plain": [
       "{'article': \"Lewis Hamilton’s victory was his seventh of the season, three more than Nico Rosberg and two more than the Briton secured during his championship year of 2008. He has now led 63 grands prix during his 143-race career, surpassing David Coulthard’s British record. Michael Schumacher’s all-time record is 142. Lewis Hamilton poses on the podium with his trophy and champagne after winning the Singapore Grand Prix . Singapore is one of the toughest tests on the calendar given the searing heat, humidity and the race’s length — yesterday’s reached the two-hour limit before the scheduled number of laps was completed — and it appeared to take its toll on the rookies. Daniil Kyvat, 19, asked to park his Toro Rosso after his drinks bottle failed before the race started, while McLaren’s Kevin Magnussen, 21, required medical attention for burns following an unexplained build-up of heat in his cockpit. He, too, was unable to take on liquids during the race and was seen with his arm raised in a bid to direct cool air down his back. ‘It was the hardest point I’ve ever earned,’ the Dane said after finishing 10th. Kevin Magnussen suffered burns on his back after his cockpit overheated at the Singapore Grand Prix . In the wake of Rosberg’s arm-waving retirement (right) on lap 13, and the conspiracy theories which followed the Italian Grand Prix, Lotus rather mischievously tweeted: ‘@nico_rosberg now wondering if anyone will notice if he joins the @MercedesAMGF1 crew for the next @LewisHamilton pit stop…’ Unsurprisingly, the Hamilton fans, adamant Mercedes have been conspiring against their man all season, were rather quiet on the social-media front yesterday. Nico Rosberg signals to the Mercedes crew as he retires from the Singapore Grand Prix on Sunday . With Hamilton now leading the table, it’s worth recalling his four wins on the spin in Malaysia, Bahrain, China and Spain. On the 21 occasions a driver has won four straight races, they’ve gone on to take the title. Rosberg’s day got off to a bad start when the car chosen to show him off to the crowd — a 1958 Mercedes-Benz 300SL — stalled with him on the back. Rosberg can't hide his frustration as he has to watch on from pit lane as Hamilton takes the title lead . The Singapore Grand Prix kept its unique record of seeing a safety car deployed at every race since its inception in 2008 after Sergio Perez’s front wing shattered across the track. The Singapore Grand Prix has created a record of deploying the safety car at every race since its inception .\",\n",
       " 'highlights': \"Hamilton has surpassed David Coulthard's British record for leading races .\\nDaniil Kyvat and Kevin Magnussen toil in the heat of Singapore .\\nLotus team tweet making mischief out of Nico Rosberg's misery .\",\n",
       " 'id': '4123c58d8f30e2f4f27f6fb0d6a0c27d5bd94bde'}"
      ]
     },
     "execution_count": 3,
     "metadata": {},
     "output_type": "execute_result"
    }
   ],
   "source": [
    "# show the contents of a single document in the dataset\n",
    "next(iter(cnn_data))"
   ]
  },
  {
   "cell_type": "code",
   "execution_count": 4,
   "id": "51e10cdf",
   "metadata": {
    "scrolled": true
   },
   "outputs": [
    {
     "data": {
      "application/vnd.jupyter.widget-view+json": {
       "model_id": "dc223acee0264ac48d89f839fd5a9c62",
       "version_major": 2,
       "version_minor": 0
      },
      "text/plain": [
       "  0%|          | 0/19999 [00:00<?, ?it/s]"
      ]
     },
     "metadata": {},
     "output_type": "display_data"
    }
   ],
   "source": [
    "from tqdm.auto import tqdm  # progress bar\n",
    "\n",
    "total_doc_count = 19999\n",
    "\n",
    "counter = 0\n",
    "docs = []\n",
    "# iterate through the dataset and apply our filter\n",
    "for d in tqdm(cnn_data, total=total_doc_count):\n",
    "    # extract the fields we need\n",
    "    doc = {\n",
    "        'article': d['article'],\n",
    "        'highlights':d['highlights']\n",
    "    }\n",
    "    # add the dict containing fields we need to docs list\n",
    "    docs.append(doc)\n",
    "\n",
    "    # stop iteration once we reach 20k\n",
    "    if counter == total_doc_count:\n",
    "        break\n",
    "\n",
    "    # increase the counter on every iteration\n",
    "    counter += 1"
   ]
  },
  {
   "cell_type": "code",
   "execution_count": 5,
   "id": "bec91073",
   "metadata": {
    "scrolled": false
   },
   "outputs": [
    {
     "data": {
      "text/html": [
       "<div>\n",
       "<style scoped>\n",
       "    .dataframe tbody tr th:only-of-type {\n",
       "        vertical-align: middle;\n",
       "    }\n",
       "\n",
       "    .dataframe tbody tr th {\n",
       "        vertical-align: top;\n",
       "    }\n",
       "\n",
       "    .dataframe thead th {\n",
       "        text-align: right;\n",
       "    }\n",
       "</style>\n",
       "<table border=\"1\" class=\"dataframe\">\n",
       "  <thead>\n",
       "    <tr style=\"text-align: right;\">\n",
       "      <th></th>\n",
       "      <th>article</th>\n",
       "      <th>highlights</th>\n",
       "    </tr>\n",
       "  </thead>\n",
       "  <tbody>\n",
       "    <tr>\n",
       "      <th>0</th>\n",
       "      <td>Lewis Hamilton’s victory was his seventh of th...</td>\n",
       "      <td>Hamilton has surpassed David Coulthard's Briti...</td>\n",
       "    </tr>\n",
       "    <tr>\n",
       "      <th>1</th>\n",
       "      <td>Tigers may be fit and dynamic creatures who ca...</td>\n",
       "      <td>Tiger takes a ride on safari car in South Kore...</td>\n",
       "    </tr>\n",
       "    <tr>\n",
       "      <th>2</th>\n",
       "      <td>As London Fashion Week gets underway, fashioni...</td>\n",
       "      <td>Christian Cowan-Sanluis collaborated with Acer...</td>\n",
       "    </tr>\n",
       "    <tr>\n",
       "      <th>3</th>\n",
       "      <td>Using Botox diminishes the experience of feeli...</td>\n",
       "      <td>Aesthetic nurse Helen Collier says young peopl...</td>\n",
       "    </tr>\n",
       "    <tr>\n",
       "      <th>4</th>\n",
       "      <td>Former Governor Arnold Schwarzenegger lifted t...</td>\n",
       "      <td>Page Six reports that a lapel pin that once po...</td>\n",
       "    </tr>\n",
       "  </tbody>\n",
       "</table>\n",
       "</div>"
      ],
      "text/plain": [
       "                                             article  \\\n",
       "0  Lewis Hamilton’s victory was his seventh of th...   \n",
       "1  Tigers may be fit and dynamic creatures who ca...   \n",
       "2  As London Fashion Week gets underway, fashioni...   \n",
       "3  Using Botox diminishes the experience of feeli...   \n",
       "4  Former Governor Arnold Schwarzenegger lifted t...   \n",
       "\n",
       "                                          highlights  \n",
       "0  Hamilton has surpassed David Coulthard's Briti...  \n",
       "1  Tiger takes a ride on safari car in South Kore...  \n",
       "2  Christian Cowan-Sanluis collaborated with Acer...  \n",
       "3  Aesthetic nurse Helen Collier says young peopl...  \n",
       "4  Page Six reports that a lapel pin that once po...  "
      ]
     },
     "execution_count": 5,
     "metadata": {},
     "output_type": "execute_result"
    }
   ],
   "source": [
    "import pandas as pd\n",
    "\n",
    "# create a pandas dataframe with the documents we extracted\n",
    "df = pd.DataFrame(docs)\n",
    "df.head()"
   ]
  },
  {
   "cell_type": "markdown",
   "id": "dd8e8227",
   "metadata": {},
   "source": [
    "# Load the Model and Tokenizer"
   ]
  },
  {
   "cell_type": "code",
   "execution_count": 6,
   "id": "35a28007",
   "metadata": {},
   "outputs": [],
   "source": [
    "# import and initialize the tokenizer and model from the checkpoint\n",
    "from transformers import AutoTokenizer, AutoModelForSeq2SeqLM\n",
    "\n",
    "checkpoint = \"sshleifer/distilbart-cnn-12-6\"\n",
    "\n",
    "tokenizer = AutoTokenizer.from_pretrained(checkpoint)\n",
    "model = AutoModelForSeq2SeqLM.from_pretrained(checkpoint)"
   ]
  },
  {
   "cell_type": "code",
   "execution_count": 7,
   "id": "2439e455",
   "metadata": {},
   "outputs": [
    {
     "name": "stdout",
     "output_type": "stream",
     "text": [
      "1024\n",
      "1022\n",
      "2\n"
     ]
    }
   ],
   "source": [
    "# Some model statistics\n",
    "\n",
    "# max tokens including the special tokens\n",
    "print(tokenizer.model_max_length)\n",
    "\n",
    "# max tokens excluding the special tokens\n",
    "print(tokenizer.max_len_single_sentence) \n",
    "\n",
    "# number of special tokens\n",
    "print(tokenizer.num_special_tokens_to_add())"
   ]
  },
  {
   "cell_type": "markdown",
   "id": "3556fed4",
   "metadata": {},
   "source": [
    "# Convert file content to sentences"
   ]
  },
  {
   "cell_type": "code",
   "execution_count": 10,
   "id": "5e85fadf",
   "metadata": {},
   "outputs": [
    {
     "name": "stderr",
     "output_type": "stream",
     "text": [
      "[nltk_data] Downloading package punkt to\n",
      "[nltk_data]     C:\\Users\\Samapti\\AppData\\Roaming\\nltk_data...\n",
      "[nltk_data]   Package punkt is already up-to-date!\n"
     ]
    },
    {
     "data": {
      "text/plain": [
       "True"
      ]
     },
     "execution_count": 10,
     "metadata": {},
     "output_type": "execute_result"
    }
   ],
   "source": [
    "#importing nltk and downloading punkt for extracting the sentences from the document\n",
    "import nltk\n",
    "nltk.download('punkt')"
   ]
  },
  {
   "cell_type": "code",
   "execution_count": 11,
   "id": "ee8cda9b",
   "metadata": {},
   "outputs": [],
   "source": [
    "# Then define a function to tokenize the text\n",
    "def tokenize_sentences(text):\n",
    "    return nltk.tokenize.sent_tokenize(text)\n",
    "\n",
    "# Apply the function to the column\n",
    "df['tokenized_text'] = df['article'].apply(tokenize_sentences)"
   ]
  },
  {
   "cell_type": "code",
   "execution_count": 12,
   "id": "c11fcb5b",
   "metadata": {},
   "outputs": [
    {
     "data": {
      "text/html": [
       "<div>\n",
       "<style scoped>\n",
       "    .dataframe tbody tr th:only-of-type {\n",
       "        vertical-align: middle;\n",
       "    }\n",
       "\n",
       "    .dataframe tbody tr th {\n",
       "        vertical-align: top;\n",
       "    }\n",
       "\n",
       "    .dataframe thead th {\n",
       "        text-align: right;\n",
       "    }\n",
       "</style>\n",
       "<table border=\"1\" class=\"dataframe\">\n",
       "  <thead>\n",
       "    <tr style=\"text-align: right;\">\n",
       "      <th></th>\n",
       "      <th>article</th>\n",
       "      <th>highlights</th>\n",
       "      <th>tokenized_text</th>\n",
       "    </tr>\n",
       "  </thead>\n",
       "  <tbody>\n",
       "    <tr>\n",
       "      <th>0</th>\n",
       "      <td>Lewis Hamilton’s victory was his seventh of th...</td>\n",
       "      <td>Hamilton has surpassed David Coulthard's Briti...</td>\n",
       "      <td>[Lewis Hamilton’s victory was his seventh of t...</td>\n",
       "    </tr>\n",
       "    <tr>\n",
       "      <th>1</th>\n",
       "      <td>Tigers may be fit and dynamic creatures who ca...</td>\n",
       "      <td>Tiger takes a ride on safari car in South Kore...</td>\n",
       "      <td>[Tigers may be fit and dynamic creatures who c...</td>\n",
       "    </tr>\n",
       "    <tr>\n",
       "      <th>2</th>\n",
       "      <td>As London Fashion Week gets underway, fashioni...</td>\n",
       "      <td>Christian Cowan-Sanluis collaborated with Acer...</td>\n",
       "      <td>[As London Fashion Week gets underway, fashion...</td>\n",
       "    </tr>\n",
       "    <tr>\n",
       "      <th>3</th>\n",
       "      <td>Using Botox diminishes the experience of feeli...</td>\n",
       "      <td>Aesthetic nurse Helen Collier says young peopl...</td>\n",
       "      <td>[Using Botox diminishes the experience of feel...</td>\n",
       "    </tr>\n",
       "    <tr>\n",
       "      <th>4</th>\n",
       "      <td>Former Governor Arnold Schwarzenegger lifted t...</td>\n",
       "      <td>Page Six reports that a lapel pin that once po...</td>\n",
       "      <td>[Former Governor Arnold Schwarzenegger lifted ...</td>\n",
       "    </tr>\n",
       "  </tbody>\n",
       "</table>\n",
       "</div>"
      ],
      "text/plain": [
       "                                             article  \\\n",
       "0  Lewis Hamilton’s victory was his seventh of th...   \n",
       "1  Tigers may be fit and dynamic creatures who ca...   \n",
       "2  As London Fashion Week gets underway, fashioni...   \n",
       "3  Using Botox diminishes the experience of feeli...   \n",
       "4  Former Governor Arnold Schwarzenegger lifted t...   \n",
       "\n",
       "                                          highlights  \\\n",
       "0  Hamilton has surpassed David Coulthard's Briti...   \n",
       "1  Tiger takes a ride on safari car in South Kore...   \n",
       "2  Christian Cowan-Sanluis collaborated with Acer...   \n",
       "3  Aesthetic nurse Helen Collier says young peopl...   \n",
       "4  Page Six reports that a lapel pin that once po...   \n",
       "\n",
       "                                      tokenized_text  \n",
       "0  [Lewis Hamilton’s victory was his seventh of t...  \n",
       "1  [Tigers may be fit and dynamic creatures who c...  \n",
       "2  [As London Fashion Week gets underway, fashion...  \n",
       "3  [Using Botox diminishes the experience of feel...  \n",
       "4  [Former Governor Arnold Schwarzenegger lifted ...  "
      ]
     },
     "execution_count": 12,
     "metadata": {},
     "output_type": "execute_result"
    }
   ],
   "source": [
    "df.head()"
   ]
  },
  {
   "cell_type": "code",
   "execution_count": 14,
   "id": "609c11b1",
   "metadata": {},
   "outputs": [
    {
     "name": "stderr",
     "output_type": "stream",
     "text": [
      "Token indices sequence length is longer than the specified maximum sequence length for this model (1164 > 1024). Running this sequence through the model will result in indexing errors\n"
     ]
    },
    {
     "data": {
      "text/plain": [
       "2617"
      ]
     },
     "execution_count": 14,
     "metadata": {},
     "output_type": "execute_result"
    }
   ],
   "source": [
    "def max_token(sentences):\n",
    "    return sum([len(tokenizer.tokenize(sentence)) for sentence in sentences])\n",
    "\n",
    "df['tokenized_text'].apply(max_token).max()"
   ]
  },
  {
   "cell_type": "code",
   "execution_count": 15,
   "id": "04b5d2fa",
   "metadata": {},
   "outputs": [
    {
     "data": {
      "text/plain": [
       "3384"
      ]
     },
     "execution_count": 15,
     "metadata": {},
     "output_type": "execute_result"
    }
   ],
   "source": [
    "df['highlights'].apply(len).max()"
   ]
  },
  {
   "cell_type": "code",
   "execution_count": 16,
   "id": "80b3e749",
   "metadata": {},
   "outputs": [
    {
     "data": {
      "text/plain": [
       "294.0"
      ]
     },
     "execution_count": 16,
     "metadata": {},
     "output_type": "execute_result"
    }
   ],
   "source": [
    "df['highlights'].apply(len).median()"
   ]
  },
  {
   "cell_type": "code",
   "execution_count": 18,
   "id": "840229b3",
   "metadata": {},
   "outputs": [],
   "source": [
    "df=df.drop(columns=['tokenized_text'])"
   ]
  },
  {
   "cell_type": "code",
   "execution_count": 19,
   "id": "719b80a6",
   "metadata": {},
   "outputs": [
    {
     "data": {
      "text/html": [
       "<div>\n",
       "<style scoped>\n",
       "    .dataframe tbody tr th:only-of-type {\n",
       "        vertical-align: middle;\n",
       "    }\n",
       "\n",
       "    .dataframe tbody tr th {\n",
       "        vertical-align: top;\n",
       "    }\n",
       "\n",
       "    .dataframe thead th {\n",
       "        text-align: right;\n",
       "    }\n",
       "</style>\n",
       "<table border=\"1\" class=\"dataframe\">\n",
       "  <thead>\n",
       "    <tr style=\"text-align: right;\">\n",
       "      <th></th>\n",
       "      <th>article</th>\n",
       "      <th>highlights</th>\n",
       "    </tr>\n",
       "  </thead>\n",
       "  <tbody>\n",
       "    <tr>\n",
       "      <th>0</th>\n",
       "      <td>Lewis Hamilton’s victory was his seventh of th...</td>\n",
       "      <td>Hamilton has surpassed David Coulthard's Briti...</td>\n",
       "    </tr>\n",
       "    <tr>\n",
       "      <th>1</th>\n",
       "      <td>Tigers may be fit and dynamic creatures who ca...</td>\n",
       "      <td>Tiger takes a ride on safari car in South Kore...</td>\n",
       "    </tr>\n",
       "    <tr>\n",
       "      <th>2</th>\n",
       "      <td>As London Fashion Week gets underway, fashioni...</td>\n",
       "      <td>Christian Cowan-Sanluis collaborated with Acer...</td>\n",
       "    </tr>\n",
       "    <tr>\n",
       "      <th>3</th>\n",
       "      <td>Using Botox diminishes the experience of feeli...</td>\n",
       "      <td>Aesthetic nurse Helen Collier says young peopl...</td>\n",
       "    </tr>\n",
       "    <tr>\n",
       "      <th>4</th>\n",
       "      <td>Former Governor Arnold Schwarzenegger lifted t...</td>\n",
       "      <td>Page Six reports that a lapel pin that once po...</td>\n",
       "    </tr>\n",
       "  </tbody>\n",
       "</table>\n",
       "</div>"
      ],
      "text/plain": [
       "                                             article  \\\n",
       "0  Lewis Hamilton’s victory was his seventh of th...   \n",
       "1  Tigers may be fit and dynamic creatures who ca...   \n",
       "2  As London Fashion Week gets underway, fashioni...   \n",
       "3  Using Botox diminishes the experience of feeli...   \n",
       "4  Former Governor Arnold Schwarzenegger lifted t...   \n",
       "\n",
       "                                          highlights  \n",
       "0  Hamilton has surpassed David Coulthard's Briti...  \n",
       "1  Tiger takes a ride on safari car in South Kore...  \n",
       "2  Christian Cowan-Sanluis collaborated with Acer...  \n",
       "3  Aesthetic nurse Helen Collier says young peopl...  \n",
       "4  Page Six reports that a lapel pin that once po...  "
      ]
     },
     "execution_count": 19,
     "metadata": {},
     "output_type": "execute_result"
    }
   ],
   "source": [
    "df.head()"
   ]
  },
  {
   "cell_type": "code",
   "execution_count": 8,
   "id": "7685be22",
   "metadata": {},
   "outputs": [],
   "source": [
    "def tokenize_sentences(text):\n",
    "    sentences=nltk.tokenize.sent_tokenize(text)\n",
    "    \n",
    "    # initialize\n",
    "    length = 0\n",
    "    chunk = \"\"\n",
    "    chunks = []\n",
    "    count = -1\n",
    "    for sentence in sentences:\n",
    "      count += 1\n",
    "      combined_length = len(tokenizer.tokenize(sentence)) + length # add the no. of sentence tokens to the length counter\n",
    "\n",
    "      if combined_length  <= tokenizer.max_len_single_sentence: # if it doesn't exceed\n",
    "        chunk += sentence + \" \" # add the sentence to the chunk\n",
    "        length = combined_length # update the length counter\n",
    "\n",
    "        # if it is the last sentence\n",
    "        if count == len(sentences) - 1:\n",
    "          chunks.append(chunk.strip()) # save the chunk\n",
    "\n",
    "      else: \n",
    "        chunks.append(chunk.strip()) # save the chunk\n",
    "\n",
    "        # reset \n",
    "        length = 0 \n",
    "        chunk = \"\"\n",
    "\n",
    "        # take care of the overflow sentence\n",
    "        chunk += sentence + \" \"\n",
    "        length = len(tokenizer.tokenize(sentence))\n",
    "    return chunks"
   ]
  },
  {
   "cell_type": "code",
   "execution_count": 11,
   "id": "4742db34",
   "metadata": {},
   "outputs": [
    {
     "name": "stderr",
     "output_type": "stream",
     "text": [
      "Token indices sequence length is longer than the specified maximum sequence length for this model (1164 > 1024). Running this sequence through the model will result in indexing errors\n"
     ]
    }
   ],
   "source": [
    "df[\"chunks\"]=df['article'].apply(tokenize_sentences)"
   ]
  },
  {
   "cell_type": "code",
   "execution_count": 12,
   "id": "2fb36209",
   "metadata": {
    "scrolled": true
   },
   "outputs": [
    {
     "data": {
      "text/html": [
       "<div>\n",
       "<style scoped>\n",
       "    .dataframe tbody tr th:only-of-type {\n",
       "        vertical-align: middle;\n",
       "    }\n",
       "\n",
       "    .dataframe tbody tr th {\n",
       "        vertical-align: top;\n",
       "    }\n",
       "\n",
       "    .dataframe thead th {\n",
       "        text-align: right;\n",
       "    }\n",
       "</style>\n",
       "<table border=\"1\" class=\"dataframe\">\n",
       "  <thead>\n",
       "    <tr style=\"text-align: right;\">\n",
       "      <th></th>\n",
       "      <th>article</th>\n",
       "      <th>highlights</th>\n",
       "      <th>chunks</th>\n",
       "    </tr>\n",
       "  </thead>\n",
       "  <tbody>\n",
       "    <tr>\n",
       "      <th>0</th>\n",
       "      <td>Lewis Hamilton’s victory was his seventh of th...</td>\n",
       "      <td>Hamilton has surpassed David Coulthard's Briti...</td>\n",
       "      <td>[Lewis Hamilton’s victory was his seventh of t...</td>\n",
       "    </tr>\n",
       "    <tr>\n",
       "      <th>1</th>\n",
       "      <td>Tigers may be fit and dynamic creatures who ca...</td>\n",
       "      <td>Tiger takes a ride on safari car in South Kore...</td>\n",
       "      <td>[Tigers may be fit and dynamic creatures who c...</td>\n",
       "    </tr>\n",
       "    <tr>\n",
       "      <th>2</th>\n",
       "      <td>As London Fashion Week gets underway, fashioni...</td>\n",
       "      <td>Christian Cowan-Sanluis collaborated with Acer...</td>\n",
       "      <td>[As London Fashion Week gets underway, fashion...</td>\n",
       "    </tr>\n",
       "    <tr>\n",
       "      <th>3</th>\n",
       "      <td>Using Botox diminishes the experience of feeli...</td>\n",
       "      <td>Aesthetic nurse Helen Collier says young peopl...</td>\n",
       "      <td>[Using Botox diminishes the experience of feel...</td>\n",
       "    </tr>\n",
       "    <tr>\n",
       "      <th>4</th>\n",
       "      <td>Former Governor Arnold Schwarzenegger lifted t...</td>\n",
       "      <td>Page Six reports that a lapel pin that once po...</td>\n",
       "      <td>[Former Governor Arnold Schwarzenegger lifted ...</td>\n",
       "    </tr>\n",
       "    <tr>\n",
       "      <th>...</th>\n",
       "      <td>...</td>\n",
       "      <td>...</td>\n",
       "      <td>...</td>\n",
       "    </tr>\n",
       "    <tr>\n",
       "      <th>19995</th>\n",
       "      <td>Nigel Clough's brother Simon has noticed how t...</td>\n",
       "      <td>Nigel Clough has recorded impressive cup recor...</td>\n",
       "      <td>[Nigel Clough's brother Simon has noticed how ...</td>\n",
       "    </tr>\n",
       "    <tr>\n",
       "      <th>19996</th>\n",
       "      <td>The death toll from a powerful cyclone which b...</td>\n",
       "      <td>Cyclone Hudhud had 120mph winds when it made l...</td>\n",
       "      <td>[The death toll from a powerful cyclone which ...</td>\n",
       "    </tr>\n",
       "    <tr>\n",
       "      <th>19997</th>\n",
       "      <td>Sotheby's is being sued over claims a painting...</td>\n",
       "      <td>Painting sold in 2006 was attributed to a foll...</td>\n",
       "      <td>[Sotheby's is being sued over claims a paintin...</td>\n",
       "    </tr>\n",
       "    <tr>\n",
       "      <th>19998</th>\n",
       "      <td>Australian batsman dies aged 25 two days after...</td>\n",
       "      <td>Phillip Hughes dies two days after being hit o...</td>\n",
       "      <td>[Australian batsman dies aged 25 two days afte...</td>\n",
       "    </tr>\n",
       "    <tr>\n",
       "      <th>19999</th>\n",
       "      <td>David McIntosh is not the most popular man at ...</td>\n",
       "      <td>Claims David always made decisions to please K...</td>\n",
       "      <td>[David McIntosh is not the most popular man at...</td>\n",
       "    </tr>\n",
       "  </tbody>\n",
       "</table>\n",
       "<p>20000 rows × 3 columns</p>\n",
       "</div>"
      ],
      "text/plain": [
       "                                                 article  \\\n",
       "0      Lewis Hamilton’s victory was his seventh of th...   \n",
       "1      Tigers may be fit and dynamic creatures who ca...   \n",
       "2      As London Fashion Week gets underway, fashioni...   \n",
       "3      Using Botox diminishes the experience of feeli...   \n",
       "4      Former Governor Arnold Schwarzenegger lifted t...   \n",
       "...                                                  ...   \n",
       "19995  Nigel Clough's brother Simon has noticed how t...   \n",
       "19996  The death toll from a powerful cyclone which b...   \n",
       "19997  Sotheby's is being sued over claims a painting...   \n",
       "19998  Australian batsman dies aged 25 two days after...   \n",
       "19999  David McIntosh is not the most popular man at ...   \n",
       "\n",
       "                                              highlights  \\\n",
       "0      Hamilton has surpassed David Coulthard's Briti...   \n",
       "1      Tiger takes a ride on safari car in South Kore...   \n",
       "2      Christian Cowan-Sanluis collaborated with Acer...   \n",
       "3      Aesthetic nurse Helen Collier says young peopl...   \n",
       "4      Page Six reports that a lapel pin that once po...   \n",
       "...                                                  ...   \n",
       "19995  Nigel Clough has recorded impressive cup recor...   \n",
       "19996  Cyclone Hudhud had 120mph winds when it made l...   \n",
       "19997  Painting sold in 2006 was attributed to a foll...   \n",
       "19998  Phillip Hughes dies two days after being hit o...   \n",
       "19999  Claims David always made decisions to please K...   \n",
       "\n",
       "                                                  chunks  \n",
       "0      [Lewis Hamilton’s victory was his seventh of t...  \n",
       "1      [Tigers may be fit and dynamic creatures who c...  \n",
       "2      [As London Fashion Week gets underway, fashion...  \n",
       "3      [Using Botox diminishes the experience of feel...  \n",
       "4      [Former Governor Arnold Schwarzenegger lifted ...  \n",
       "...                                                  ...  \n",
       "19995  [Nigel Clough's brother Simon has noticed how ...  \n",
       "19996  [The death toll from a powerful cyclone which ...  \n",
       "19997  [Sotheby's is being sued over claims a paintin...  \n",
       "19998  [Australian batsman dies aged 25 two days afte...  \n",
       "19999  [David McIntosh is not the most popular man at...  \n",
       "\n",
       "[20000 rows x 3 columns]"
      ]
     },
     "execution_count": 12,
     "metadata": {},
     "output_type": "execute_result"
    }
   ],
   "source": [
    "df"
   ]
  },
  {
   "cell_type": "code",
   "execution_count": 15,
   "id": "2901ab14",
   "metadata": {},
   "outputs": [],
   "source": [
    "df_sample = df.sample(n=10, replace=False)"
   ]
  },
  {
   "cell_type": "code",
   "execution_count": 16,
   "id": "5f9c08a7",
   "metadata": {},
   "outputs": [
    {
     "name": "stdout",
     "output_type": "stream",
     "text": [
      "Execution time: 401.97716307640076 seconds\n"
     ]
    }
   ],
   "source": [
    "import time\n",
    "\n",
    "# Record start time\n",
    "start_time = time.time()\n",
    "\n",
    "def generate_summary(chunks):\n",
    "    tokenized_inputs = [tokenizer(chunk, return_tensors=\"pt\") for chunk in chunks]\n",
    "    outputs=\"\"\n",
    "    for tokenized_input in tokenized_inputs:\n",
    "        output_tn = model.generate(**tokenized_input)\n",
    "        output=tokenizer.decode(*output_tn, skip_special_tokens=True)\n",
    "        outputs=outputs+output+\" \"\n",
    "    return outputs\n",
    "\n",
    "df_sample[\"Summary_Model\"]=df_sample[\"chunks\"].apply(generate_summary)\n",
    "\n",
    "# Record end time\n",
    "end_time = time.time()\n",
    "\n",
    "# Calculate elapsed time\n",
    "elapsed_time = end_time - start_time\n",
    "\n",
    "print(\"Execution time:\", elapsed_time, \"seconds\")"
   ]
  },
  {
   "cell_type": "code",
   "execution_count": 17,
   "id": "9dd49d67",
   "metadata": {
    "scrolled": true
   },
   "outputs": [
    {
     "name": "stdout",
     "output_type": "stream",
     "text": [
      "Execution time: 6.699619384606679 minutes\n"
     ]
    }
   ],
   "source": [
    "print(\"Execution time:\", (elapsed_time/60), \"minutes\")"
   ]
  },
  {
   "cell_type": "code",
   "execution_count": 18,
   "id": "e68fddbb",
   "metadata": {},
   "outputs": [
    {
     "data": {
      "text/html": [
       "<div>\n",
       "<style scoped>\n",
       "    .dataframe tbody tr th:only-of-type {\n",
       "        vertical-align: middle;\n",
       "    }\n",
       "\n",
       "    .dataframe tbody tr th {\n",
       "        vertical-align: top;\n",
       "    }\n",
       "\n",
       "    .dataframe thead th {\n",
       "        text-align: right;\n",
       "    }\n",
       "</style>\n",
       "<table border=\"1\" class=\"dataframe\">\n",
       "  <thead>\n",
       "    <tr style=\"text-align: right;\">\n",
       "      <th></th>\n",
       "      <th>article</th>\n",
       "      <th>highlights</th>\n",
       "      <th>chunks</th>\n",
       "      <th>Summary_Model</th>\n",
       "    </tr>\n",
       "  </thead>\n",
       "  <tbody>\n",
       "    <tr>\n",
       "      <th>7042</th>\n",
       "      <td>Silly stunt: Judy and the rubber chicken. Her ...</td>\n",
       "      <td>Judy Murray's business deals could make her mo...</td>\n",
       "      <td>[Silly stunt: Judy and the rubber chicken. Her...</td>\n",
       "      <td>Judy Murray has taken on a Grand Slam of publ...</td>\n",
       "    </tr>\n",
       "    <tr>\n",
       "      <th>14424</th>\n",
       "      <td>Roger Federer put on a show for his fellow spo...</td>\n",
       "      <td>Seven-time champion put on a masterclass on Ce...</td>\n",
       "      <td>[Roger Federer put on a show for his fellow sp...</td>\n",
       "      <td>Roger Federer took just 81 minutes to beat Sa...</td>\n",
       "    </tr>\n",
       "    <tr>\n",
       "      <th>18989</th>\n",
       "      <td>A Chinese student has died after being found s...</td>\n",
       "      <td>Body of Jiao Chin was found hanging over the f...</td>\n",
       "      <td>[A Chinese student has died after being found ...</td>\n",
       "      <td>The body of Jiao Chin was found hanging over ...</td>\n",
       "    </tr>\n",
       "    <tr>\n",
       "      <th>11243</th>\n",
       "      <td>New radar images have shown that British colon...</td>\n",
       "      <td>A satellite survey of area around Albemarle So...</td>\n",
       "      <td>[New radar images have shown that British colo...</td>\n",
       "      <td>New radar images have shown that British colo...</td>\n",
       "    </tr>\n",
       "    <tr>\n",
       "      <th>15834</th>\n",
       "      <td>The future of smoke alarms will not only know ...</td>\n",
       "      <td>AirGuard accurately distinguishes between ciga...</td>\n",
       "      <td>[The future of smoke alarms will not only know...</td>\n",
       "      <td>AirGuard accurately recognises smoke from a f...</td>\n",
       "    </tr>\n",
       "    <tr>\n",
       "      <th>8380</th>\n",
       "      <td>Ryan Taylor has spent the past two years on tr...</td>\n",
       "      <td>Newcastle manager Alan Pardew has confirmed Ry...</td>\n",
       "      <td>[Ryan Taylor has spent the past two years on t...</td>\n",
       "      <td>Ryan Taylor could make his first appearance o...</td>\n",
       "    </tr>\n",
       "    <tr>\n",
       "      <th>9481</th>\n",
       "      <td>Scobee. Josh Scobee. That’s how the Jacksonvil...</td>\n",
       "      <td>Josh Scobee has played in the NFL for 11 years...</td>\n",
       "      <td>[Scobee. Josh Scobee. That’s how the Jacksonvi...</td>\n",
       "      <td>Jacksonville Jaguars kicker Josh Scobee is th...</td>\n",
       "    </tr>\n",
       "    <tr>\n",
       "      <th>8572</th>\n",
       "      <td>Admission: Clive Goodman (pictured today) said...</td>\n",
       "      <td>Clive Goodman tells court he hacked voicemails...</td>\n",
       "      <td>[Admission: Clive Goodman (pictured today) sai...</td>\n",
       "      <td>Former News of the World royal. editor hacked...</td>\n",
       "    </tr>\n",
       "    <tr>\n",
       "      <th>12694</th>\n",
       "      <td>A teenager accused of shooting and stabbing an...</td>\n",
       "      <td>Maxwell Winkler has been arrested for the murd...</td>\n",
       "      <td>[A teenager accused of shooting and stabbing a...</td>\n",
       "      <td>Maxwell Winkler, 17, is accused of shooting a...</td>\n",
       "    </tr>\n",
       "    <tr>\n",
       "      <th>5170</th>\n",
       "      <td>Anthony Joshua believes his monastic lifestyle...</td>\n",
       "      <td>Anthony Joshua will mark his first anniversary...</td>\n",
       "      <td>[Anthony Joshua believes his monastic lifestyl...</td>\n",
       "      <td>Anthony Joshua takes on Denis Bakhtov for his...</td>\n",
       "    </tr>\n",
       "  </tbody>\n",
       "</table>\n",
       "</div>"
      ],
      "text/plain": [
       "                                                 article  \\\n",
       "7042   Silly stunt: Judy and the rubber chicken. Her ...   \n",
       "14424  Roger Federer put on a show for his fellow spo...   \n",
       "18989  A Chinese student has died after being found s...   \n",
       "11243  New radar images have shown that British colon...   \n",
       "15834  The future of smoke alarms will not only know ...   \n",
       "8380   Ryan Taylor has spent the past two years on tr...   \n",
       "9481   Scobee. Josh Scobee. That’s how the Jacksonvil...   \n",
       "8572   Admission: Clive Goodman (pictured today) said...   \n",
       "12694  A teenager accused of shooting and stabbing an...   \n",
       "5170   Anthony Joshua believes his monastic lifestyle...   \n",
       "\n",
       "                                              highlights  \\\n",
       "7042   Judy Murray's business deals could make her mo...   \n",
       "14424  Seven-time champion put on a masterclass on Ce...   \n",
       "18989  Body of Jiao Chin was found hanging over the f...   \n",
       "11243  A satellite survey of area around Albemarle So...   \n",
       "15834  AirGuard accurately distinguishes between ciga...   \n",
       "8380   Newcastle manager Alan Pardew has confirmed Ry...   \n",
       "9481   Josh Scobee has played in the NFL for 11 years...   \n",
       "8572   Clive Goodman tells court he hacked voicemails...   \n",
       "12694  Maxwell Winkler has been arrested for the murd...   \n",
       "5170   Anthony Joshua will mark his first anniversary...   \n",
       "\n",
       "                                                  chunks  \\\n",
       "7042   [Silly stunt: Judy and the rubber chicken. Her...   \n",
       "14424  [Roger Federer put on a show for his fellow sp...   \n",
       "18989  [A Chinese student has died after being found ...   \n",
       "11243  [New radar images have shown that British colo...   \n",
       "15834  [The future of smoke alarms will not only know...   \n",
       "8380   [Ryan Taylor has spent the past two years on t...   \n",
       "9481   [Scobee. Josh Scobee. That’s how the Jacksonvi...   \n",
       "8572   [Admission: Clive Goodman (pictured today) sai...   \n",
       "12694  [A teenager accused of shooting and stabbing a...   \n",
       "5170   [Anthony Joshua believes his monastic lifestyl...   \n",
       "\n",
       "                                           Summary_Model  \n",
       "7042    Judy Murray has taken on a Grand Slam of publ...  \n",
       "14424   Roger Federer took just 81 minutes to beat Sa...  \n",
       "18989   The body of Jiao Chin was found hanging over ...  \n",
       "11243   New radar images have shown that British colo...  \n",
       "15834   AirGuard accurately recognises smoke from a f...  \n",
       "8380    Ryan Taylor could make his first appearance o...  \n",
       "9481    Jacksonville Jaguars kicker Josh Scobee is th...  \n",
       "8572    Former News of the World royal. editor hacked...  \n",
       "12694   Maxwell Winkler, 17, is accused of shooting a...  \n",
       "5170    Anthony Joshua takes on Denis Bakhtov for his...  "
      ]
     },
     "execution_count": 18,
     "metadata": {},
     "output_type": "execute_result"
    }
   ],
   "source": [
    "df_sample"
   ]
  },
  {
   "cell_type": "code",
   "execution_count": 20,
   "id": "5eca0f3e",
   "metadata": {},
   "outputs": [],
   "source": [
    "df_sample.to_csv(\"sample_output.csv\", index=False)"
   ]
  },
  {
   "cell_type": "code",
   "execution_count": 29,
   "id": "b97e3bba",
   "metadata": {
    "scrolled": true
   },
   "outputs": [
    {
     "name": "stdout",
     "output_type": "stream",
     "text": [
      "Collecting rouge\n",
      "  Obtaining dependency information for rouge from https://files.pythonhosted.org/packages/32/7c/650ae86f92460e9e8ef969cc5008b24798dcf56a9a8947d04c78f550b3f5/rouge-1.0.1-py3-none-any.whl.metadata\n",
      "  Downloading rouge-1.0.1-py3-none-any.whl.metadata (4.1 kB)\n",
      "Requirement already satisfied: six in c:\\users\\samapti\\anaconda3\\lib\\site-packages (from rouge) (1.16.0)\n",
      "Using cached rouge-1.0.1-py3-none-any.whl (13 kB)\n",
      "Installing collected packages: rouge\n",
      "Successfully installed rouge-1.0.1\n"
     ]
    }
   ],
   "source": [
    "!pip install rouge"
   ]
  },
  {
   "cell_type": "code",
   "execution_count": 24,
   "id": "db326241",
   "metadata": {},
   "outputs": [],
   "source": [
    "model_out = df_sample[\"Summary_Model\"].tolist()\n",
    "\n",
    "reference = df_sample[\"highlights\"].tolist()"
   ]
  },
  {
   "cell_type": "code",
   "execution_count": 25,
   "id": "fe82e855",
   "metadata": {
    "scrolled": true
   },
   "outputs": [
    {
     "data": {
      "text/plain": [
       "[' Judy Murray has taken on a Grand Slam of public appearances and lucrative business commitments that could make her more than £150,000 in a year. Her week started with an unlikely appearance on Radio 4’s Desert Island Discs. Then we witnessed her ‘ambassadorship’ for Lavazza coffee. Judy was seen helping to dispense free coffee to Wimbledon fans, and manning a coffee stall. ',\n",
       " ' Roger Federer took just 81 minutes to beat Santiago Giraldo in SW19. David Beckham, Sachin Tendulkar and Sir Bobby Charlton watched in the Royal Box. Federer joined Andy Murray in reaching round four without dropping a set. David Haye and Anthony Joshua were also in the royal box. ',\n",
       " \" The body of Jiao Chin was found hanging over the fence at the Xishuangbanna Dai Prefecture in south-western China's Yunnan Province. Fellow students discovered the 22-year-old's body in the early hours of the morning. The fence had been erected around the university accommodation after a string of intruders tried to break in. Now her classmates believe she might have been going to meet someone when she died. \",\n",
       " \" New radar images have shown that British colonists may have settled in remote part of what is now North Carolina more than 400 years ago - potentially solving a centuries-old mystery. Tests found a hidden section of the map, drawn in invisible ink and covered with paper, which provided a tantalising hint at the possible location of what may have been intended as the colony's capital near Roanoke Island.  Roanoke Colony was an attempt by Queen Elizabeth I to establish a permanent British presence in the New World. Queen Elizabeth wanted to use the colony as a base from which to launch privateering raids on Spanish ships. The colony was abandoned in 1586 after settlers angered local tribes. The name of a local tribe was carved into a tree - and there is no other evidence of where they went. \",\n",
       " ' AirGuard accurately recognises smoke from a fire, cigarette smoke and marijuana smoke. It then logs and records the organic compounds found in the smoke, using an app. This can be used to alert hoteliers, homeowners or the police. AirGuard is expected to launch next spring and was developed by the firm FreshAir Sensor. It has been designed for landlords and hoteliers but will also be available to homeowners. ',\n",
       " ' Ryan Taylor could make his first appearance of the season against Tottenham on Sunday. The 30-year-old has not played in the Premier League since August 25, 2012. Taylor suffered a cruciate ligament injury in a Europa League match that same week. The Newcastle United boss Alan Pardew is pleased to have Taylor back in and around his squad. ',\n",
       " ' Jacksonville Jaguars kicker Josh Scobee is the Jaguars all-time leading scorer with 984 points. The 32-year-old has kicked seven-game winning field goals during his career. The Jaguars kicked a 59-yard field goal to defeat the Indianapolis Colts in 2010. He has made 225 of 279 field goals in his career and hit on 23 of 25 attempts (92 per cent) last season. ',\n",
       " ' Former News of the World royal. editor hacked Miss Middleton on an. daily basis, including on Christmas Day. He also intercepted voicemails of Princes William and Harry. Goodman was jailed for hacking mobiles belonging to royal aides in 2007. He said he had not previously told police or prosecutors about the true extent of his hacking because he was never asked about it. ',\n",
       " \" Maxwell Winkler, 17, is accused of shooting and stabbing 73-year-old Henry Kim to death in a park in Fishers, Indiana on Saturday. He was found riding his bike in a wooded area near to the murder scene on Monday night. Police allegedly found notes in his wallet after they took him into custody and found a gun and bloody towels in his trash. They also found two folding knives on him and one appeared to have dried blood on the edge of the knife. Police also found ammo from a.22-caliber gun in Winkler's home and bloody gloves found in trash outside his home. Winkler had been acting strangely after Kim was found dead.  Henry Kim's body was found by a dogwalker at Windermere Park in Fishers, Indiana, on Saturday. Kim was a married father who had lived in the area for more than 15 years. His son Steve, 43, wrote on Facebook: 'I lost my father last night... Feeling sad. He had no enemies' \",\n",
       " \" Anthony Joshua takes on Denis Bakhtov for his first title, the WBC International belt. The undefeated heavyweight marks the first anniversary of his professional career on Saturday night. But Joshua refuses to be distracted by the inevitable hype that has accompanied his first eight fights. 'I've got a lot more fans now that's for sure, but I have been in the gym so I haven't been able to see the impact, it's a basic lifestyle really,. \"]"
      ]
     },
     "execution_count": 25,
     "metadata": {},
     "output_type": "execute_result"
    }
   ],
   "source": [
    "model_out"
   ]
  },
  {
   "cell_type": "code",
   "execution_count": 26,
   "id": "25a589bf",
   "metadata": {
    "scrolled": true
   },
   "outputs": [
    {
     "data": {
      "text/plain": [
       "[\"Judy Murray's business deals could make her more than £150,000 a year .\\nHer deal with Robinsons, the drinks brand, is worth around £50,000 .\\nTennis fans have in the past struggled to warm to Andy Murray's mother .\",\n",
       " 'Seven-time champion put on a masterclass on Centre Court .\\nFederer took just 81 minutes to beat Giraldo .\\nDavid Beckham and Sachin Tendulkar were among guests in Royal Box .',\n",
       " 'Body of Jiao Chin was found hanging over the fence at a university campus .\\nGrim discovery was made by fellow students in early hours of the morning .\\nBelieved she tried to climb electric fence to sneak away to see her boyfriend .\\nFence was erected to keep intruders out from accommodation .',\n",
       " \"A satellite survey of area around Albemarle Sound has identified key areas of interest .\\nScientists are searching these areas using ground penetrating radar (GPR)\\nGPR measures the depth that signals travel before hitting a hidden object .\\nSo far, they have found a previously 'undetected pattern' that they .\\nclaim may indicate a former colonial presence in the area .\",\n",
       " 'AirGuard accurately distinguishes between cigarette and marijuana smoke .\\nIt then\\xa0logs and records the compounds found in the smoke using an app .\\nAirGuard is set to launch next spring and was developed by FreshAir Sensor .\\nThere will be two versions - a tamper-proof plug-in device, and a wearable .\\nDesigned for landlords and hotels, it will also be available to consumers .\\nThe Lebanon-based firm has not yet announced prices .',\n",
       " 'Newcastle manager Alan Pardew has confirmed Ryan Taylor will travel to London this weekend .\\nPardew has revealed Taylor has been a great help on the training ground .\\nTaylor has even dabbled in a spot of scouting during his time out injured .',\n",
       " \"Josh Scobee has played in the NFL for 11 years and kicked at Wembley last season .\\n32-year-old is a James Bond fan and even drives an Aston Martin .\\nScobee is Jacksonville's all-time leading scorer by more than 200 points .\\nSays key to success is being 'focused' and treating each kick 'individually'\",\n",
       " \"Clive Goodman tells court he hacked voicemails of Kate, William and Harry .\\n56-year-old jailed in 2007 for illegally accessing voicemails of royal aides .\\nPrince William's phone 'was hacked 35 times' and Harry's was nine times'\\nDuchess allegedly first hacked by Goodman, of Surrey, in December 2005 .\",\n",
       " \"Maxwell Winkler has been arrested for the murder of Henry Kim, 73, who was shot three times and cut across the neck in a park on Saturday .\\nWinkler and Kim did not know each other but 'notes found in the teenager's wallet show he had intended to find a random target and kill him'\\nPolice 'found a gun, ammo, a bloodied towel and dark gloves at his house'\\nBefore his arrest, teachers and classmates contacted cops to say he was acting strangely and that he had cut his long hair .\\nPolice found him in a wooded area on Monday night and after they took him into custody, he said, unprompted: 'I didn't kill anyone'\",\n",
       " 'Anthony Joshua will mark his first anniversary as a professional .\\nHe takes on Denis Bakhtov over 12 rounds at the O2 on Saturday .\\nJoshua insists he has blocked out his growing celebrity status .']"
      ]
     },
     "execution_count": 26,
     "metadata": {},
     "output_type": "execute_result"
    }
   ],
   "source": [
    "reference"
   ]
  },
  {
   "cell_type": "code",
   "execution_count": 32,
   "id": "56df2d6e",
   "metadata": {},
   "outputs": [
    {
     "data": {
      "text/plain": [
       "{'rouge-1': {'r': 0.45503933168394833,\n",
       "  'p': 0.3343866843386429,\n",
       "  'f': 0.3804206636480796},\n",
       " 'rouge-2': {'r': 0.19327438415272272,\n",
       "  'p': 0.13522689616829275,\n",
       "  'f': 0.1563495894631115},\n",
       " 'rouge-l': {'r': 0.433472178506888,\n",
       "  'p': 0.3181305198183274,\n",
       "  'f': 0.3619058984742755}}"
      ]
     },
     "execution_count": 32,
     "metadata": {},
     "output_type": "execute_result"
    }
   ],
   "source": [
    "from rouge import Rouge\n",
    "\n",
    "rouge = Rouge()\n",
    "\n",
    "rouge.get_scores(model_out, reference, avg=True)"
   ]
  },
  {
   "cell_type": "code",
   "execution_count": 33,
   "id": "5aee482c",
   "metadata": {},
   "outputs": [
    {
     "name": "stdout",
     "output_type": "stream",
     "text": [
      "WARNING:tensorflow:From C:\\Users\\Samapti\\anaconda3\\Lib\\site-packages\\keras\\src\\losses.py:2976: The name tf.losses.sparse_softmax_cross_entropy is deprecated. Please use tf.compat.v1.losses.sparse_softmax_cross_entropy instead.\n",
      "\n"
     ]
    },
    {
     "data": {
      "application/vnd.jupyter.widget-view+json": {
       "model_id": "d223f12ddcdd4b0ab640dd0a05174016",
       "version_major": 2,
       "version_minor": 0
      },
      "text/plain": [
       "model.safetensors:   0%|          | 0.00/1.63G [00:00<?, ?B/s]"
      ]
     },
     "metadata": {},
     "output_type": "display_data"
    },
    {
     "name": "stderr",
     "output_type": "stream",
     "text": [
      "C:\\Users\\Samapti\\anaconda3\\Lib\\site-packages\\huggingface_hub\\file_download.py:149: UserWarning: `huggingface_hub` cache-system uses symlinks by default to efficiently store duplicated files but your machine does not support them in C:\\Users\\Samapti\\.cache\\huggingface\\hub\\models--facebook--bart-large-cnn. Caching files will still work but in a degraded version that might require more space on your disk. This warning can be disabled by setting the `HF_HUB_DISABLE_SYMLINKS_WARNING` environment variable. For more details, see https://huggingface.co/docs/huggingface_hub/how-to-cache#limitations.\n",
      "To support symlinks on Windows, you either need to activate Developer Mode or to run Python as an administrator. In order to see activate developer mode, see this article: https://docs.microsoft.com/en-us/windows/apps/get-started/enable-your-device-for-development\n",
      "  warnings.warn(message)\n"
     ]
    },
    {
     "data": {
      "application/vnd.jupyter.widget-view+json": {
       "model_id": "efb643126b7e47248a6b2a75d535a1de",
       "version_major": 2,
       "version_minor": 0
      },
      "text/plain": [
       "generation_config.json:   0%|          | 0.00/363 [00:00<?, ?B/s]"
      ]
     },
     "metadata": {},
     "output_type": "display_data"
    },
    {
     "data": {
      "application/vnd.jupyter.widget-view+json": {
       "model_id": "708eb2b2513348a9a5486f53292015e0",
       "version_major": 2,
       "version_minor": 0
      },
      "text/plain": [
       "vocab.json:   0%|          | 0.00/899k [00:00<?, ?B/s]"
      ]
     },
     "metadata": {},
     "output_type": "display_data"
    },
    {
     "data": {
      "application/vnd.jupyter.widget-view+json": {
       "model_id": "1f692ffb9daf4c2c857d6c1f92ee98f3",
       "version_major": 2,
       "version_minor": 0
      },
      "text/plain": [
       "merges.txt:   0%|          | 0.00/456k [00:00<?, ?B/s]"
      ]
     },
     "metadata": {},
     "output_type": "display_data"
    },
    {
     "data": {
      "application/vnd.jupyter.widget-view+json": {
       "model_id": "9e049b258dee449f8ecf329177677223",
       "version_major": 2,
       "version_minor": 0
      },
      "text/plain": [
       "tokenizer.json:   0%|          | 0.00/1.36M [00:00<?, ?B/s]"
      ]
     },
     "metadata": {},
     "output_type": "display_data"
    }
   ],
   "source": [
    "from transformers import pipeline\n",
    "\n",
    "summarizer = pipeline(\"summarization\", model=\"facebook/bart-large-cnn\")"
   ]
  },
  {
   "cell_type": "code",
   "execution_count": 34,
   "id": "9a7734ee",
   "metadata": {},
   "outputs": [
    {
     "name": "stdout",
     "output_type": "stream",
     "text": [
      "Execution time: 8.022761873404185 minutes\n"
     ]
    }
   ],
   "source": [
    "import time\n",
    "\n",
    "# Record start time\n",
    "start_time = time.time()\n",
    "\n",
    "def gen_sum(chunks):\n",
    "    for chunk in chunks:\n",
    "        outputs=\"\"\n",
    "        output=summarizer(chunk, max_length=250, min_length=30, do_sample=False)[0]['summary_text']\n",
    "        outputs=outputs+output+\" \"\n",
    "    return outputs\n",
    "\n",
    "df_sample[\"Summary_Model_2\"]=df_sample[\"chunks\"].apply(generate_summary)\n",
    "\n",
    "# Record end time\n",
    "end_time = time.time()\n",
    "\n",
    "# Calculate elapsed time\n",
    "elapsed_time = end_time - start_time\n",
    "\n",
    "print(\"Execution time:\", (elapsed_time/60), \"minutes\")"
   ]
  },
  {
   "cell_type": "code",
   "execution_count": 35,
   "id": "63e71d01",
   "metadata": {},
   "outputs": [
    {
     "data": {
      "text/html": [
       "<div>\n",
       "<style scoped>\n",
       "    .dataframe tbody tr th:only-of-type {\n",
       "        vertical-align: middle;\n",
       "    }\n",
       "\n",
       "    .dataframe tbody tr th {\n",
       "        vertical-align: top;\n",
       "    }\n",
       "\n",
       "    .dataframe thead th {\n",
       "        text-align: right;\n",
       "    }\n",
       "</style>\n",
       "<table border=\"1\" class=\"dataframe\">\n",
       "  <thead>\n",
       "    <tr style=\"text-align: right;\">\n",
       "      <th></th>\n",
       "      <th>article</th>\n",
       "      <th>highlights</th>\n",
       "      <th>chunks</th>\n",
       "      <th>Summary_Model</th>\n",
       "      <th>Summary_Model_2</th>\n",
       "    </tr>\n",
       "  </thead>\n",
       "  <tbody>\n",
       "    <tr>\n",
       "      <th>7042</th>\n",
       "      <td>Silly stunt: Judy and the rubber chicken. Her ...</td>\n",
       "      <td>Judy Murray's business deals could make her mo...</td>\n",
       "      <td>[Silly stunt: Judy and the rubber chicken. Her...</td>\n",
       "      <td>Judy Murray has taken on a Grand Slam of publ...</td>\n",
       "      <td>Judy Murray has taken on a Grand Slam of publ...</td>\n",
       "    </tr>\n",
       "    <tr>\n",
       "      <th>14424</th>\n",
       "      <td>Roger Federer put on a show for his fellow spo...</td>\n",
       "      <td>Seven-time champion put on a masterclass on Ce...</td>\n",
       "      <td>[Roger Federer put on a show for his fellow sp...</td>\n",
       "      <td>Roger Federer took just 81 minutes to beat Sa...</td>\n",
       "      <td>Roger Federer took just 81 minutes to beat Sa...</td>\n",
       "    </tr>\n",
       "    <tr>\n",
       "      <th>18989</th>\n",
       "      <td>A Chinese student has died after being found s...</td>\n",
       "      <td>Body of Jiao Chin was found hanging over the f...</td>\n",
       "      <td>[A Chinese student has died after being found ...</td>\n",
       "      <td>The body of Jiao Chin was found hanging over ...</td>\n",
       "      <td>The body of Jiao Chin was found hanging over ...</td>\n",
       "    </tr>\n",
       "    <tr>\n",
       "      <th>11243</th>\n",
       "      <td>New radar images have shown that British colon...</td>\n",
       "      <td>A satellite survey of area around Albemarle So...</td>\n",
       "      <td>[New radar images have shown that British colo...</td>\n",
       "      <td>New radar images have shown that British colo...</td>\n",
       "      <td>New radar images have shown that British colo...</td>\n",
       "    </tr>\n",
       "    <tr>\n",
       "      <th>15834</th>\n",
       "      <td>The future of smoke alarms will not only know ...</td>\n",
       "      <td>AirGuard accurately distinguishes between ciga...</td>\n",
       "      <td>[The future of smoke alarms will not only know...</td>\n",
       "      <td>AirGuard accurately recognises smoke from a f...</td>\n",
       "      <td>AirGuard accurately recognises smoke from a f...</td>\n",
       "    </tr>\n",
       "    <tr>\n",
       "      <th>8380</th>\n",
       "      <td>Ryan Taylor has spent the past two years on tr...</td>\n",
       "      <td>Newcastle manager Alan Pardew has confirmed Ry...</td>\n",
       "      <td>[Ryan Taylor has spent the past two years on t...</td>\n",
       "      <td>Ryan Taylor could make his first appearance o...</td>\n",
       "      <td>Ryan Taylor could make his first appearance o...</td>\n",
       "    </tr>\n",
       "    <tr>\n",
       "      <th>9481</th>\n",
       "      <td>Scobee. Josh Scobee. That’s how the Jacksonvil...</td>\n",
       "      <td>Josh Scobee has played in the NFL for 11 years...</td>\n",
       "      <td>[Scobee. Josh Scobee. That’s how the Jacksonvi...</td>\n",
       "      <td>Jacksonville Jaguars kicker Josh Scobee is th...</td>\n",
       "      <td>Jacksonville Jaguars kicker Josh Scobee is th...</td>\n",
       "    </tr>\n",
       "    <tr>\n",
       "      <th>8572</th>\n",
       "      <td>Admission: Clive Goodman (pictured today) said...</td>\n",
       "      <td>Clive Goodman tells court he hacked voicemails...</td>\n",
       "      <td>[Admission: Clive Goodman (pictured today) sai...</td>\n",
       "      <td>Former News of the World royal. editor hacked...</td>\n",
       "      <td>Former News of the World royal. editor hacked...</td>\n",
       "    </tr>\n",
       "    <tr>\n",
       "      <th>12694</th>\n",
       "      <td>A teenager accused of shooting and stabbing an...</td>\n",
       "      <td>Maxwell Winkler has been arrested for the murd...</td>\n",
       "      <td>[A teenager accused of shooting and stabbing a...</td>\n",
       "      <td>Maxwell Winkler, 17, is accused of shooting a...</td>\n",
       "      <td>Maxwell Winkler, 17, is accused of shooting a...</td>\n",
       "    </tr>\n",
       "    <tr>\n",
       "      <th>5170</th>\n",
       "      <td>Anthony Joshua believes his monastic lifestyle...</td>\n",
       "      <td>Anthony Joshua will mark his first anniversary...</td>\n",
       "      <td>[Anthony Joshua believes his monastic lifestyl...</td>\n",
       "      <td>Anthony Joshua takes on Denis Bakhtov for his...</td>\n",
       "      <td>Anthony Joshua takes on Denis Bakhtov for his...</td>\n",
       "    </tr>\n",
       "  </tbody>\n",
       "</table>\n",
       "</div>"
      ],
      "text/plain": [
       "                                                 article  \\\n",
       "7042   Silly stunt: Judy and the rubber chicken. Her ...   \n",
       "14424  Roger Federer put on a show for his fellow spo...   \n",
       "18989  A Chinese student has died after being found s...   \n",
       "11243  New radar images have shown that British colon...   \n",
       "15834  The future of smoke alarms will not only know ...   \n",
       "8380   Ryan Taylor has spent the past two years on tr...   \n",
       "9481   Scobee. Josh Scobee. That’s how the Jacksonvil...   \n",
       "8572   Admission: Clive Goodman (pictured today) said...   \n",
       "12694  A teenager accused of shooting and stabbing an...   \n",
       "5170   Anthony Joshua believes his monastic lifestyle...   \n",
       "\n",
       "                                              highlights  \\\n",
       "7042   Judy Murray's business deals could make her mo...   \n",
       "14424  Seven-time champion put on a masterclass on Ce...   \n",
       "18989  Body of Jiao Chin was found hanging over the f...   \n",
       "11243  A satellite survey of area around Albemarle So...   \n",
       "15834  AirGuard accurately distinguishes between ciga...   \n",
       "8380   Newcastle manager Alan Pardew has confirmed Ry...   \n",
       "9481   Josh Scobee has played in the NFL for 11 years...   \n",
       "8572   Clive Goodman tells court he hacked voicemails...   \n",
       "12694  Maxwell Winkler has been arrested for the murd...   \n",
       "5170   Anthony Joshua will mark his first anniversary...   \n",
       "\n",
       "                                                  chunks  \\\n",
       "7042   [Silly stunt: Judy and the rubber chicken. Her...   \n",
       "14424  [Roger Federer put on a show for his fellow sp...   \n",
       "18989  [A Chinese student has died after being found ...   \n",
       "11243  [New radar images have shown that British colo...   \n",
       "15834  [The future of smoke alarms will not only know...   \n",
       "8380   [Ryan Taylor has spent the past two years on t...   \n",
       "9481   [Scobee. Josh Scobee. That’s how the Jacksonvi...   \n",
       "8572   [Admission: Clive Goodman (pictured today) sai...   \n",
       "12694  [A teenager accused of shooting and stabbing a...   \n",
       "5170   [Anthony Joshua believes his monastic lifestyl...   \n",
       "\n",
       "                                           Summary_Model  \\\n",
       "7042    Judy Murray has taken on a Grand Slam of publ...   \n",
       "14424   Roger Federer took just 81 minutes to beat Sa...   \n",
       "18989   The body of Jiao Chin was found hanging over ...   \n",
       "11243   New radar images have shown that British colo...   \n",
       "15834   AirGuard accurately recognises smoke from a f...   \n",
       "8380    Ryan Taylor could make his first appearance o...   \n",
       "9481    Jacksonville Jaguars kicker Josh Scobee is th...   \n",
       "8572    Former News of the World royal. editor hacked...   \n",
       "12694   Maxwell Winkler, 17, is accused of shooting a...   \n",
       "5170    Anthony Joshua takes on Denis Bakhtov for his...   \n",
       "\n",
       "                                         Summary_Model_2  \n",
       "7042    Judy Murray has taken on a Grand Slam of publ...  \n",
       "14424   Roger Federer took just 81 minutes to beat Sa...  \n",
       "18989   The body of Jiao Chin was found hanging over ...  \n",
       "11243   New radar images have shown that British colo...  \n",
       "15834   AirGuard accurately recognises smoke from a f...  \n",
       "8380    Ryan Taylor could make his first appearance o...  \n",
       "9481    Jacksonville Jaguars kicker Josh Scobee is th...  \n",
       "8572    Former News of the World royal. editor hacked...  \n",
       "12694   Maxwell Winkler, 17, is accused of shooting a...  \n",
       "5170    Anthony Joshua takes on Denis Bakhtov for his...  "
      ]
     },
     "execution_count": 35,
     "metadata": {},
     "output_type": "execute_result"
    }
   ],
   "source": [
    "df_sample"
   ]
  },
  {
   "cell_type": "code",
   "execution_count": 36,
   "id": "8f236e35",
   "metadata": {},
   "outputs": [],
   "source": [
    "df_sample.to_csv(\"sample_output.csv\", index=False)"
   ]
  },
  {
   "cell_type": "code",
   "execution_count": 38,
   "id": "2bf598fa",
   "metadata": {
    "scrolled": true
   },
   "outputs": [
    {
     "data": {
      "text/plain": [
       "{'rouge-1': {'r': 0.45503933168394833,\n",
       "  'p': 0.3343866843386429,\n",
       "  'f': 0.3804206636480796},\n",
       " 'rouge-2': {'r': 0.19327438415272272,\n",
       "  'p': 0.13522689616829275,\n",
       "  'f': 0.1563495894631115},\n",
       " 'rouge-l': {'r': 0.433472178506888,\n",
       "  'p': 0.3181305198183274,\n",
       "  'f': 0.3619058984742755}}"
      ]
     },
     "execution_count": 38,
     "metadata": {},
     "output_type": "execute_result"
    }
   ],
   "source": [
    "model_out_2 = df_sample[\"Summary_Model_2\"].tolist()\n",
    "\n",
    "reference = df_sample[\"highlights\"].tolist()\n",
    "\n",
    "rouge = Rouge()\n",
    "\n",
    "rouge.get_scores(model_out_2, reference, avg=True)"
   ]
  },
  {
   "cell_type": "code",
   "execution_count": null,
   "id": "473b0c03",
   "metadata": {},
   "outputs": [],
   "source": []
  }
 ],
 "metadata": {
  "kernelspec": {
   "display_name": "Python 3 (ipykernel)",
   "language": "python",
   "name": "python3"
  },
  "language_info": {
   "codemirror_mode": {
    "name": "ipython",
    "version": 3
   },
   "file_extension": ".py",
   "mimetype": "text/x-python",
   "name": "python",
   "nbconvert_exporter": "python",
   "pygments_lexer": "ipython3",
   "version": "3.11.5"
  }
 },
 "nbformat": 4,
 "nbformat_minor": 5
}
