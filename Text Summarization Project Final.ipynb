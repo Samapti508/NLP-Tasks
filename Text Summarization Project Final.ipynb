{
 "cells": [
  {
   "cell_type": "markdown",
   "id": "e06d625c",
   "metadata": {},
   "source": [
    "# Load and Prepare Dataset"
   ]
  },
  {
   "cell_type": "code",
   "execution_count": 1,
   "id": "71173c80",
   "metadata": {},
   "outputs": [],
   "source": [
    "from datasets import load_dataset\n",
    "\n",
    "# load the dataset from huggingface in streaming mode and shuffle it\n",
    "cnn_data = load_dataset(\n",
    "    'cnn_dailymail','3.0.0',\n",
    "    split='train',\n",
    "    streaming=True\n",
    ").shuffle(seed=960)"
   ]
  },
  {
   "cell_type": "code",
   "execution_count": 10,
   "id": "ae39e4db",
   "metadata": {},
   "outputs": [
    {
     "data": {
      "text/plain": [
       "{'article': \"Lewis Hamilton’s victory was his seventh of the season, three more than Nico Rosberg and two more than the Briton secured during his championship year of 2008. He has now led 63 grands prix during his 143-race career, surpassing David Coulthard’s British record. Michael Schumacher’s all-time record is 142. Lewis Hamilton poses on the podium with his trophy and champagne after winning the Singapore Grand Prix . Singapore is one of the toughest tests on the calendar given the searing heat, humidity and the race’s length — yesterday’s reached the two-hour limit before the scheduled number of laps was completed — and it appeared to take its toll on the rookies. Daniil Kyvat, 19, asked to park his Toro Rosso after his drinks bottle failed before the race started, while McLaren’s Kevin Magnussen, 21, required medical attention for burns following an unexplained build-up of heat in his cockpit. He, too, was unable to take on liquids during the race and was seen with his arm raised in a bid to direct cool air down his back. ‘It was the hardest point I’ve ever earned,’ the Dane said after finishing 10th. Kevin Magnussen suffered burns on his back after his cockpit overheated at the Singapore Grand Prix . In the wake of Rosberg’s arm-waving retirement (right) on lap 13, and the conspiracy theories which followed the Italian Grand Prix, Lotus rather mischievously tweeted: ‘@nico_rosberg now wondering if anyone will notice if he joins the @MercedesAMGF1 crew for the next @LewisHamilton pit stop…’ Unsurprisingly, the Hamilton fans, adamant Mercedes have been conspiring against their man all season, were rather quiet on the social-media front yesterday. Nico Rosberg signals to the Mercedes crew as he retires from the Singapore Grand Prix on Sunday . With Hamilton now leading the table, it’s worth recalling his four wins on the spin in Malaysia, Bahrain, China and Spain. On the 21 occasions a driver has won four straight races, they’ve gone on to take the title. Rosberg’s day got off to a bad start when the car chosen to show him off to the crowd — a 1958 Mercedes-Benz 300SL — stalled with him on the back. Rosberg can't hide his frustration as he has to watch on from pit lane as Hamilton takes the title lead . The Singapore Grand Prix kept its unique record of seeing a safety car deployed at every race since its inception in 2008 after Sergio Perez’s front wing shattered across the track. The Singapore Grand Prix has created a record of deploying the safety car at every race since its inception .\",\n",
       " 'highlights': \"Hamilton has surpassed David Coulthard's British record for leading races .\\nDaniil Kyvat and Kevin Magnussen toil in the heat of Singapore .\\nLotus team tweet making mischief out of Nico Rosberg's misery .\",\n",
       " 'id': '4123c58d8f30e2f4f27f6fb0d6a0c27d5bd94bde'}"
      ]
     },
     "execution_count": 10,
     "metadata": {},
     "output_type": "execute_result"
    }
   ],
   "source": [
    "# show the contents of a single document in the dataset\n",
    "next(iter(cnn_data))"
   ]
  },
  {
   "cell_type": "code",
   "execution_count": 2,
   "id": "51e10cdf",
   "metadata": {
    "scrolled": true
   },
   "outputs": [
    {
     "data": {
      "application/vnd.jupyter.widget-view+json": {
       "model_id": "e9488110428743f5a01108028834ec40",
       "version_major": 2,
       "version_minor": 0
      },
      "text/plain": [
       "  0%|          | 0/9999 [00:00<?, ?it/s]"
      ]
     },
     "metadata": {},
     "output_type": "display_data"
    }
   ],
   "source": [
    "from tqdm.auto import tqdm  # progress bar\n",
    "\n",
    "total_doc_count = 9999\n",
    "\n",
    "counter = 0\n",
    "docs = []\n",
    "# iterate through the dataset and apply our filter\n",
    "for d in tqdm(cnn_data, total=total_doc_count):\n",
    "    # extract the fields we need\n",
    "    doc = {\n",
    "        'article': d['article'],\n",
    "        'highlights':d['highlights']\n",
    "    }\n",
    "    # add the dict containing fields we need to docs list\n",
    "    docs.append(doc)\n",
    "\n",
    "    # stop iteration once we reach 20k\n",
    "    if counter == total_doc_count:\n",
    "        break\n",
    "\n",
    "    # increase the counter on every iteration\n",
    "    counter += 1"
   ]
  },
  {
   "cell_type": "code",
   "execution_count": 3,
   "id": "bec91073",
   "metadata": {
    "scrolled": false
   },
   "outputs": [
    {
     "data": {
      "text/html": [
       "<div>\n",
       "<style scoped>\n",
       "    .dataframe tbody tr th:only-of-type {\n",
       "        vertical-align: middle;\n",
       "    }\n",
       "\n",
       "    .dataframe tbody tr th {\n",
       "        vertical-align: top;\n",
       "    }\n",
       "\n",
       "    .dataframe thead th {\n",
       "        text-align: right;\n",
       "    }\n",
       "</style>\n",
       "<table border=\"1\" class=\"dataframe\">\n",
       "  <thead>\n",
       "    <tr style=\"text-align: right;\">\n",
       "      <th></th>\n",
       "      <th>article</th>\n",
       "      <th>highlights</th>\n",
       "    </tr>\n",
       "  </thead>\n",
       "  <tbody>\n",
       "    <tr>\n",
       "      <th>0</th>\n",
       "      <td>Lewis Hamilton’s victory was his seventh of th...</td>\n",
       "      <td>Hamilton has surpassed David Coulthard's Briti...</td>\n",
       "    </tr>\n",
       "    <tr>\n",
       "      <th>1</th>\n",
       "      <td>Tigers may be fit and dynamic creatures who ca...</td>\n",
       "      <td>Tiger takes a ride on safari car in South Kore...</td>\n",
       "    </tr>\n",
       "    <tr>\n",
       "      <th>2</th>\n",
       "      <td>As London Fashion Week gets underway, fashioni...</td>\n",
       "      <td>Christian Cowan-Sanluis collaborated with Acer...</td>\n",
       "    </tr>\n",
       "    <tr>\n",
       "      <th>3</th>\n",
       "      <td>Using Botox diminishes the experience of feeli...</td>\n",
       "      <td>Aesthetic nurse Helen Collier says young peopl...</td>\n",
       "    </tr>\n",
       "    <tr>\n",
       "      <th>4</th>\n",
       "      <td>Former Governor Arnold Schwarzenegger lifted t...</td>\n",
       "      <td>Page Six reports that a lapel pin that once po...</td>\n",
       "    </tr>\n",
       "  </tbody>\n",
       "</table>\n",
       "</div>"
      ],
      "text/plain": [
       "                                             article  \\\n",
       "0  Lewis Hamilton’s victory was his seventh of th...   \n",
       "1  Tigers may be fit and dynamic creatures who ca...   \n",
       "2  As London Fashion Week gets underway, fashioni...   \n",
       "3  Using Botox diminishes the experience of feeli...   \n",
       "4  Former Governor Arnold Schwarzenegger lifted t...   \n",
       "\n",
       "                                          highlights  \n",
       "0  Hamilton has surpassed David Coulthard's Briti...  \n",
       "1  Tiger takes a ride on safari car in South Kore...  \n",
       "2  Christian Cowan-Sanluis collaborated with Acer...  \n",
       "3  Aesthetic nurse Helen Collier says young peopl...  \n",
       "4  Page Six reports that a lapel pin that once po...  "
      ]
     },
     "execution_count": 3,
     "metadata": {},
     "output_type": "execute_result"
    }
   ],
   "source": [
    "import pandas as pd\n",
    "\n",
    "# create a pandas dataframe with the documents we extracted\n",
    "df = pd.DataFrame(docs)\n",
    "df.head()"
   ]
  },
  {
   "cell_type": "code",
   "execution_count": 4,
   "id": "25f3c75f",
   "metadata": {},
   "outputs": [
    {
     "data": {
      "text/plain": [
       "100000"
      ]
     },
     "execution_count": 4,
     "metadata": {},
     "output_type": "execute_result"
    }
   ],
   "source": [
    "len(df)"
   ]
  },
  {
   "cell_type": "markdown",
   "id": "dd8e8227",
   "metadata": {},
   "source": [
    "# Load the Model and Tokenizer"
   ]
  },
  {
   "cell_type": "code",
   "execution_count": 4,
   "id": "7f3403cb",
   "metadata": {},
   "outputs": [],
   "source": [
    "# import and initialize the tokenizer and model from the checkpoint\n",
    "from transformers import AutoTokenizer, AutoModelForSeq2SeqLM\n",
    "\n",
    "checkpoint = \"facebook/bart-large-cnn\"\n",
    "\n",
    "tokenizer = AutoTokenizer.from_pretrained(checkpoint)\n",
    "model = AutoModelForSeq2SeqLM.from_pretrained(checkpoint)"
   ]
  },
  {
   "cell_type": "code",
   "execution_count": 5,
   "id": "2439e455",
   "metadata": {},
   "outputs": [
    {
     "name": "stdout",
     "output_type": "stream",
     "text": [
      "1024\n",
      "1022\n",
      "2\n"
     ]
    }
   ],
   "source": [
    "# Some model statistics\n",
    "\n",
    "# max tokens including the special tokens\n",
    "print(tokenizer.model_max_length)\n",
    "\n",
    "# max tokens excluding the special tokens\n",
    "print(tokenizer.max_len_single_sentence) \n",
    "\n",
    "# number of special tokens\n",
    "print(tokenizer.num_special_tokens_to_add())"
   ]
  },
  {
   "cell_type": "markdown",
   "id": "3556fed4",
   "metadata": {},
   "source": [
    "# Convert file content to sentences"
   ]
  },
  {
   "cell_type": "code",
   "execution_count": 4,
   "id": "5e85fadf",
   "metadata": {},
   "outputs": [
    {
     "name": "stderr",
     "output_type": "stream",
     "text": [
      "[nltk_data] Downloading package punkt to\n",
      "[nltk_data]     C:\\Users\\Samapti\\AppData\\Roaming\\nltk_data...\n",
      "[nltk_data]   Package punkt is already up-to-date!\n"
     ]
    },
    {
     "data": {
      "text/plain": [
       "True"
      ]
     },
     "execution_count": 4,
     "metadata": {},
     "output_type": "execute_result"
    }
   ],
   "source": [
    "#importing nltk and downloading punkt for extracting the sentences from the document\n",
    "import nltk\n",
    "nltk.download('punkt')"
   ]
  },
  {
   "cell_type": "code",
   "execution_count": 5,
   "id": "ee8cda9b",
   "metadata": {},
   "outputs": [],
   "source": [
    "# Then define a function to tokenize the text\n",
    "def tokenize_sentences(text):\n",
    "    return nltk.tokenize.sent_tokenize(text)\n",
    "\n",
    "# Apply the function to the column\n",
    "df['tokenized_text'] = df['article'].apply(tokenize_sentences)"
   ]
  },
  {
   "cell_type": "markdown",
   "id": "791dc8b7",
   "metadata": {},
   "source": [
    "tokenized_text is a list of sentences."
   ]
  },
  {
   "cell_type": "code",
   "execution_count": 7,
   "id": "c11fcb5b",
   "metadata": {},
   "outputs": [
    {
     "data": {
      "text/html": [
       "<div>\n",
       "<style scoped>\n",
       "    .dataframe tbody tr th:only-of-type {\n",
       "        vertical-align: middle;\n",
       "    }\n",
       "\n",
       "    .dataframe tbody tr th {\n",
       "        vertical-align: top;\n",
       "    }\n",
       "\n",
       "    .dataframe thead th {\n",
       "        text-align: right;\n",
       "    }\n",
       "</style>\n",
       "<table border=\"1\" class=\"dataframe\">\n",
       "  <thead>\n",
       "    <tr style=\"text-align: right;\">\n",
       "      <th></th>\n",
       "      <th>article</th>\n",
       "      <th>highlights</th>\n",
       "      <th>tokenized_text</th>\n",
       "    </tr>\n",
       "  </thead>\n",
       "  <tbody>\n",
       "    <tr>\n",
       "      <th>0</th>\n",
       "      <td>Lewis Hamilton’s victory was his seventh of th...</td>\n",
       "      <td>Hamilton has surpassed David Coulthard's Briti...</td>\n",
       "      <td>[Lewis Hamilton’s victory was his seventh of t...</td>\n",
       "    </tr>\n",
       "    <tr>\n",
       "      <th>1</th>\n",
       "      <td>Tigers may be fit and dynamic creatures who ca...</td>\n",
       "      <td>Tiger takes a ride on safari car in South Kore...</td>\n",
       "      <td>[Tigers may be fit and dynamic creatures who c...</td>\n",
       "    </tr>\n",
       "    <tr>\n",
       "      <th>2</th>\n",
       "      <td>As London Fashion Week gets underway, fashioni...</td>\n",
       "      <td>Christian Cowan-Sanluis collaborated with Acer...</td>\n",
       "      <td>[As London Fashion Week gets underway, fashion...</td>\n",
       "    </tr>\n",
       "    <tr>\n",
       "      <th>3</th>\n",
       "      <td>Using Botox diminishes the experience of feeli...</td>\n",
       "      <td>Aesthetic nurse Helen Collier says young peopl...</td>\n",
       "      <td>[Using Botox diminishes the experience of feel...</td>\n",
       "    </tr>\n",
       "    <tr>\n",
       "      <th>4</th>\n",
       "      <td>Former Governor Arnold Schwarzenegger lifted t...</td>\n",
       "      <td>Page Six reports that a lapel pin that once po...</td>\n",
       "      <td>[Former Governor Arnold Schwarzenegger lifted ...</td>\n",
       "    </tr>\n",
       "  </tbody>\n",
       "</table>\n",
       "</div>"
      ],
      "text/plain": [
       "                                             article  \\\n",
       "0  Lewis Hamilton’s victory was his seventh of th...   \n",
       "1  Tigers may be fit and dynamic creatures who ca...   \n",
       "2  As London Fashion Week gets underway, fashioni...   \n",
       "3  Using Botox diminishes the experience of feeli...   \n",
       "4  Former Governor Arnold Schwarzenegger lifted t...   \n",
       "\n",
       "                                          highlights  \\\n",
       "0  Hamilton has surpassed David Coulthard's Briti...   \n",
       "1  Tiger takes a ride on safari car in South Kore...   \n",
       "2  Christian Cowan-Sanluis collaborated with Acer...   \n",
       "3  Aesthetic nurse Helen Collier says young peopl...   \n",
       "4  Page Six reports that a lapel pin that once po...   \n",
       "\n",
       "                                      tokenized_text  \n",
       "0  [Lewis Hamilton’s victory was his seventh of t...  \n",
       "1  [Tigers may be fit and dynamic creatures who c...  \n",
       "2  [As London Fashion Week gets underway, fashion...  \n",
       "3  [Using Botox diminishes the experience of feel...  \n",
       "4  [Former Governor Arnold Schwarzenegger lifted ...  "
      ]
     },
     "execution_count": 7,
     "metadata": {},
     "output_type": "execute_result"
    }
   ],
   "source": [
    "df.head()"
   ]
  },
  {
   "cell_type": "code",
   "execution_count": 11,
   "id": "609c11b1",
   "metadata": {},
   "outputs": [
    {
     "name": "stderr",
     "output_type": "stream",
     "text": [
      "Token indices sequence length is longer than the specified maximum sequence length for this model (1164 > 1024). Running this sequence through the model will result in indexing errors\n"
     ]
    },
    {
     "data": {
      "text/plain": [
       "2617"
      ]
     },
     "execution_count": 11,
     "metadata": {},
     "output_type": "execute_result"
    }
   ],
   "source": [
    "def max_token(sentences):\n",
    "    return sum([len(tokenizer.tokenize(sentence)) for sentence in sentences])\n",
    "\n",
    "df['tokenized_text'].apply(max_token).max()"
   ]
  },
  {
   "cell_type": "code",
   "execution_count": 12,
   "id": "04b5d2fa",
   "metadata": {},
   "outputs": [
    {
     "data": {
      "text/plain": [
       "3384"
      ]
     },
     "execution_count": 12,
     "metadata": {},
     "output_type": "execute_result"
    }
   ],
   "source": [
    "df['highlights'].apply(len).max()"
   ]
  },
  {
   "cell_type": "code",
   "execution_count": 13,
   "id": "80b3e749",
   "metadata": {},
   "outputs": [
    {
     "data": {
      "text/plain": [
       "294.0"
      ]
     },
     "execution_count": 13,
     "metadata": {},
     "output_type": "execute_result"
    }
   ],
   "source": [
    "df['highlights'].apply(len).median()"
   ]
  },
  {
   "cell_type": "code",
   "execution_count": 18,
   "id": "840229b3",
   "metadata": {},
   "outputs": [],
   "source": [
    "df=df.drop(columns=['tokenized_text'])"
   ]
  },
  {
   "cell_type": "code",
   "execution_count": 19,
   "id": "719b80a6",
   "metadata": {
    "scrolled": false
   },
   "outputs": [
    {
     "data": {
      "text/html": [
       "<div>\n",
       "<style scoped>\n",
       "    .dataframe tbody tr th:only-of-type {\n",
       "        vertical-align: middle;\n",
       "    }\n",
       "\n",
       "    .dataframe tbody tr th {\n",
       "        vertical-align: top;\n",
       "    }\n",
       "\n",
       "    .dataframe thead th {\n",
       "        text-align: right;\n",
       "    }\n",
       "</style>\n",
       "<table border=\"1\" class=\"dataframe\">\n",
       "  <thead>\n",
       "    <tr style=\"text-align: right;\">\n",
       "      <th></th>\n",
       "      <th>article</th>\n",
       "      <th>highlights</th>\n",
       "    </tr>\n",
       "  </thead>\n",
       "  <tbody>\n",
       "    <tr>\n",
       "      <th>0</th>\n",
       "      <td>Lewis Hamilton’s victory was his seventh of th...</td>\n",
       "      <td>Hamilton has surpassed David Coulthard's Briti...</td>\n",
       "    </tr>\n",
       "    <tr>\n",
       "      <th>1</th>\n",
       "      <td>Tigers may be fit and dynamic creatures who ca...</td>\n",
       "      <td>Tiger takes a ride on safari car in South Kore...</td>\n",
       "    </tr>\n",
       "    <tr>\n",
       "      <th>2</th>\n",
       "      <td>As London Fashion Week gets underway, fashioni...</td>\n",
       "      <td>Christian Cowan-Sanluis collaborated with Acer...</td>\n",
       "    </tr>\n",
       "    <tr>\n",
       "      <th>3</th>\n",
       "      <td>Using Botox diminishes the experience of feeli...</td>\n",
       "      <td>Aesthetic nurse Helen Collier says young peopl...</td>\n",
       "    </tr>\n",
       "    <tr>\n",
       "      <th>4</th>\n",
       "      <td>Former Governor Arnold Schwarzenegger lifted t...</td>\n",
       "      <td>Page Six reports that a lapel pin that once po...</td>\n",
       "    </tr>\n",
       "  </tbody>\n",
       "</table>\n",
       "</div>"
      ],
      "text/plain": [
       "                                             article  \\\n",
       "0  Lewis Hamilton’s victory was his seventh of th...   \n",
       "1  Tigers may be fit and dynamic creatures who ca...   \n",
       "2  As London Fashion Week gets underway, fashioni...   \n",
       "3  Using Botox diminishes the experience of feeli...   \n",
       "4  Former Governor Arnold Schwarzenegger lifted t...   \n",
       "\n",
       "                                          highlights  \n",
       "0  Hamilton has surpassed David Coulthard's Briti...  \n",
       "1  Tiger takes a ride on safari car in South Kore...  \n",
       "2  Christian Cowan-Sanluis collaborated with Acer...  \n",
       "3  Aesthetic nurse Helen Collier says young peopl...  \n",
       "4  Page Six reports that a lapel pin that once po...  "
      ]
     },
     "execution_count": 19,
     "metadata": {},
     "output_type": "execute_result"
    }
   ],
   "source": [
    "df.head()"
   ]
  },
  {
   "cell_type": "markdown",
   "id": "d196aa50",
   "metadata": {},
   "source": [
    "We can't get the summary of articles whose length of tokens is higher than 1024.So for those cases, we will make chunks of articles."
   ]
  },
  {
   "cell_type": "code",
   "execution_count": 8,
   "id": "7685be22",
   "metadata": {},
   "outputs": [],
   "source": [
    "def extract_chunks(text):\n",
    "    sentences=nltk.tokenize.sent_tokenize(text)\n",
    "    \n",
    "    # initialize\n",
    "    length = 0\n",
    "    chunk = \"\"\n",
    "    chunks = []\n",
    "    count = -1\n",
    "    for sentence in sentences:\n",
    "      count += 1\n",
    "      combined_length = len(tokenizer.tokenize(sentence)) + length # add the no. of sentence tokens to the length counter\n",
    "\n",
    "      if combined_length  <= tokenizer.max_len_single_sentence: # if it doesn't exceed\n",
    "        chunk += sentence + \" \" # add the sentence to the chunk\n",
    "        length = combined_length # update the length counter\n",
    "\n",
    "        # if it is the last sentence\n",
    "        if count == len(sentences) - 1:\n",
    "          chunks.append(chunk.strip()) # save the chunk\n",
    "\n",
    "      else: \n",
    "        chunks.append(chunk.strip()) # save the chunk\n",
    "\n",
    "        # reset \n",
    "        length = 0 \n",
    "        chunk = \"\"\n",
    "\n",
    "        # take care of the overflow sentence\n",
    "        chunk += sentence + \" \"\n",
    "        length = len(tokenizer.tokenize(sentence))\n",
    "    return chunks"
   ]
  },
  {
   "cell_type": "code",
   "execution_count": 9,
   "id": "4742db34",
   "metadata": {},
   "outputs": [
    {
     "name": "stderr",
     "output_type": "stream",
     "text": [
      "Token indices sequence length is longer than the specified maximum sequence length for this model (1164 > 1024). Running this sequence through the model will result in indexing errors\n"
     ]
    }
   ],
   "source": [
    "df[\"chunks\"]=df['article'].apply(extract_chunks)"
   ]
  },
  {
   "cell_type": "code",
   "execution_count": 10,
   "id": "2fb36209",
   "metadata": {
    "scrolled": true
   },
   "outputs": [
    {
     "data": {
      "text/html": [
       "<div>\n",
       "<style scoped>\n",
       "    .dataframe tbody tr th:only-of-type {\n",
       "        vertical-align: middle;\n",
       "    }\n",
       "\n",
       "    .dataframe tbody tr th {\n",
       "        vertical-align: top;\n",
       "    }\n",
       "\n",
       "    .dataframe thead th {\n",
       "        text-align: right;\n",
       "    }\n",
       "</style>\n",
       "<table border=\"1\" class=\"dataframe\">\n",
       "  <thead>\n",
       "    <tr style=\"text-align: right;\">\n",
       "      <th></th>\n",
       "      <th>article</th>\n",
       "      <th>highlights</th>\n",
       "      <th>tokenized_text</th>\n",
       "      <th>chunks</th>\n",
       "    </tr>\n",
       "  </thead>\n",
       "  <tbody>\n",
       "    <tr>\n",
       "      <th>0</th>\n",
       "      <td>Lewis Hamilton’s victory was his seventh of th...</td>\n",
       "      <td>Hamilton has surpassed David Coulthard's Briti...</td>\n",
       "      <td>[Lewis Hamilton’s victory was his seventh of t...</td>\n",
       "      <td>[Lewis Hamilton’s victory was his seventh of t...</td>\n",
       "    </tr>\n",
       "    <tr>\n",
       "      <th>1</th>\n",
       "      <td>Tigers may be fit and dynamic creatures who ca...</td>\n",
       "      <td>Tiger takes a ride on safari car in South Kore...</td>\n",
       "      <td>[Tigers may be fit and dynamic creatures who c...</td>\n",
       "      <td>[Tigers may be fit and dynamic creatures who c...</td>\n",
       "    </tr>\n",
       "    <tr>\n",
       "      <th>2</th>\n",
       "      <td>As London Fashion Week gets underway, fashioni...</td>\n",
       "      <td>Christian Cowan-Sanluis collaborated with Acer...</td>\n",
       "      <td>[As London Fashion Week gets underway, fashion...</td>\n",
       "      <td>[As London Fashion Week gets underway, fashion...</td>\n",
       "    </tr>\n",
       "    <tr>\n",
       "      <th>3</th>\n",
       "      <td>Using Botox diminishes the experience of feeli...</td>\n",
       "      <td>Aesthetic nurse Helen Collier says young peopl...</td>\n",
       "      <td>[Using Botox diminishes the experience of feel...</td>\n",
       "      <td>[Using Botox diminishes the experience of feel...</td>\n",
       "    </tr>\n",
       "    <tr>\n",
       "      <th>4</th>\n",
       "      <td>Former Governor Arnold Schwarzenegger lifted t...</td>\n",
       "      <td>Page Six reports that a lapel pin that once po...</td>\n",
       "      <td>[Former Governor Arnold Schwarzenegger lifted ...</td>\n",
       "      <td>[Former Governor Arnold Schwarzenegger lifted ...</td>\n",
       "    </tr>\n",
       "    <tr>\n",
       "      <th>...</th>\n",
       "      <td>...</td>\n",
       "      <td>...</td>\n",
       "      <td>...</td>\n",
       "      <td>...</td>\n",
       "    </tr>\n",
       "    <tr>\n",
       "      <th>19995</th>\n",
       "      <td>Nigel Clough's brother Simon has noticed how t...</td>\n",
       "      <td>Nigel Clough has recorded impressive cup recor...</td>\n",
       "      <td>[Nigel Clough's brother Simon has noticed how ...</td>\n",
       "      <td>[Nigel Clough's brother Simon has noticed how ...</td>\n",
       "    </tr>\n",
       "    <tr>\n",
       "      <th>19996</th>\n",
       "      <td>The death toll from a powerful cyclone which b...</td>\n",
       "      <td>Cyclone Hudhud had 120mph winds when it made l...</td>\n",
       "      <td>[The death toll from a powerful cyclone which ...</td>\n",
       "      <td>[The death toll from a powerful cyclone which ...</td>\n",
       "    </tr>\n",
       "    <tr>\n",
       "      <th>19997</th>\n",
       "      <td>Sotheby's is being sued over claims a painting...</td>\n",
       "      <td>Painting sold in 2006 was attributed to a foll...</td>\n",
       "      <td>[Sotheby's is being sued over claims a paintin...</td>\n",
       "      <td>[Sotheby's is being sued over claims a paintin...</td>\n",
       "    </tr>\n",
       "    <tr>\n",
       "      <th>19998</th>\n",
       "      <td>Australian batsman dies aged 25 two days after...</td>\n",
       "      <td>Phillip Hughes dies two days after being hit o...</td>\n",
       "      <td>[Australian batsman dies aged 25 two days afte...</td>\n",
       "      <td>[Australian batsman dies aged 25 two days afte...</td>\n",
       "    </tr>\n",
       "    <tr>\n",
       "      <th>19999</th>\n",
       "      <td>David McIntosh is not the most popular man at ...</td>\n",
       "      <td>Claims David always made decisions to please K...</td>\n",
       "      <td>[David McIntosh is not the most popular man at...</td>\n",
       "      <td>[David McIntosh is not the most popular man at...</td>\n",
       "    </tr>\n",
       "  </tbody>\n",
       "</table>\n",
       "<p>20000 rows × 4 columns</p>\n",
       "</div>"
      ],
      "text/plain": [
       "                                                 article  \\\n",
       "0      Lewis Hamilton’s victory was his seventh of th...   \n",
       "1      Tigers may be fit and dynamic creatures who ca...   \n",
       "2      As London Fashion Week gets underway, fashioni...   \n",
       "3      Using Botox diminishes the experience of feeli...   \n",
       "4      Former Governor Arnold Schwarzenegger lifted t...   \n",
       "...                                                  ...   \n",
       "19995  Nigel Clough's brother Simon has noticed how t...   \n",
       "19996  The death toll from a powerful cyclone which b...   \n",
       "19997  Sotheby's is being sued over claims a painting...   \n",
       "19998  Australian batsman dies aged 25 two days after...   \n",
       "19999  David McIntosh is not the most popular man at ...   \n",
       "\n",
       "                                              highlights  \\\n",
       "0      Hamilton has surpassed David Coulthard's Briti...   \n",
       "1      Tiger takes a ride on safari car in South Kore...   \n",
       "2      Christian Cowan-Sanluis collaborated with Acer...   \n",
       "3      Aesthetic nurse Helen Collier says young peopl...   \n",
       "4      Page Six reports that a lapel pin that once po...   \n",
       "...                                                  ...   \n",
       "19995  Nigel Clough has recorded impressive cup recor...   \n",
       "19996  Cyclone Hudhud had 120mph winds when it made l...   \n",
       "19997  Painting sold in 2006 was attributed to a foll...   \n",
       "19998  Phillip Hughes dies two days after being hit o...   \n",
       "19999  Claims David always made decisions to please K...   \n",
       "\n",
       "                                          tokenized_text  \\\n",
       "0      [Lewis Hamilton’s victory was his seventh of t...   \n",
       "1      [Tigers may be fit and dynamic creatures who c...   \n",
       "2      [As London Fashion Week gets underway, fashion...   \n",
       "3      [Using Botox diminishes the experience of feel...   \n",
       "4      [Former Governor Arnold Schwarzenegger lifted ...   \n",
       "...                                                  ...   \n",
       "19995  [Nigel Clough's brother Simon has noticed how ...   \n",
       "19996  [The death toll from a powerful cyclone which ...   \n",
       "19997  [Sotheby's is being sued over claims a paintin...   \n",
       "19998  [Australian batsman dies aged 25 two days afte...   \n",
       "19999  [David McIntosh is not the most popular man at...   \n",
       "\n",
       "                                                  chunks  \n",
       "0      [Lewis Hamilton’s victory was his seventh of t...  \n",
       "1      [Tigers may be fit and dynamic creatures who c...  \n",
       "2      [As London Fashion Week gets underway, fashion...  \n",
       "3      [Using Botox diminishes the experience of feel...  \n",
       "4      [Former Governor Arnold Schwarzenegger lifted ...  \n",
       "...                                                  ...  \n",
       "19995  [Nigel Clough's brother Simon has noticed how ...  \n",
       "19996  [The death toll from a powerful cyclone which ...  \n",
       "19997  [Sotheby's is being sued over claims a paintin...  \n",
       "19998  [Australian batsman dies aged 25 two days afte...  \n",
       "19999  [David McIntosh is not the most popular man at...  \n",
       "\n",
       "[20000 rows x 4 columns]"
      ]
     },
     "execution_count": 10,
     "metadata": {},
     "output_type": "execute_result"
    }
   ],
   "source": [
    "df"
   ]
  },
  {
   "cell_type": "code",
   "execution_count": 23,
   "id": "2901ab14",
   "metadata": {},
   "outputs": [],
   "source": [
    "df_sample = df.sample(n=10, replace=False)"
   ]
  },
  {
   "cell_type": "code",
   "execution_count": 18,
   "id": "e68fddbb",
   "metadata": {},
   "outputs": [
    {
     "data": {
      "text/html": [
       "<div>\n",
       "<style scoped>\n",
       "    .dataframe tbody tr th:only-of-type {\n",
       "        vertical-align: middle;\n",
       "    }\n",
       "\n",
       "    .dataframe tbody tr th {\n",
       "        vertical-align: top;\n",
       "    }\n",
       "\n",
       "    .dataframe thead th {\n",
       "        text-align: right;\n",
       "    }\n",
       "</style>\n",
       "<table border=\"1\" class=\"dataframe\">\n",
       "  <thead>\n",
       "    <tr style=\"text-align: right;\">\n",
       "      <th></th>\n",
       "      <th>article</th>\n",
       "      <th>highlights</th>\n",
       "      <th>chunks</th>\n",
       "      <th>Summary_Model</th>\n",
       "    </tr>\n",
       "  </thead>\n",
       "  <tbody>\n",
       "    <tr>\n",
       "      <th>7042</th>\n",
       "      <td>Silly stunt: Judy and the rubber chicken. Her ...</td>\n",
       "      <td>Judy Murray's business deals could make her mo...</td>\n",
       "      <td>[Silly stunt: Judy and the rubber chicken. Her...</td>\n",
       "      <td>Judy Murray has taken on a Grand Slam of publ...</td>\n",
       "    </tr>\n",
       "    <tr>\n",
       "      <th>14424</th>\n",
       "      <td>Roger Federer put on a show for his fellow spo...</td>\n",
       "      <td>Seven-time champion put on a masterclass on Ce...</td>\n",
       "      <td>[Roger Federer put on a show for his fellow sp...</td>\n",
       "      <td>Roger Federer took just 81 minutes to beat Sa...</td>\n",
       "    </tr>\n",
       "    <tr>\n",
       "      <th>18989</th>\n",
       "      <td>A Chinese student has died after being found s...</td>\n",
       "      <td>Body of Jiao Chin was found hanging over the f...</td>\n",
       "      <td>[A Chinese student has died after being found ...</td>\n",
       "      <td>The body of Jiao Chin was found hanging over ...</td>\n",
       "    </tr>\n",
       "    <tr>\n",
       "      <th>11243</th>\n",
       "      <td>New radar images have shown that British colon...</td>\n",
       "      <td>A satellite survey of area around Albemarle So...</td>\n",
       "      <td>[New radar images have shown that British colo...</td>\n",
       "      <td>New radar images have shown that British colo...</td>\n",
       "    </tr>\n",
       "    <tr>\n",
       "      <th>15834</th>\n",
       "      <td>The future of smoke alarms will not only know ...</td>\n",
       "      <td>AirGuard accurately distinguishes between ciga...</td>\n",
       "      <td>[The future of smoke alarms will not only know...</td>\n",
       "      <td>AirGuard accurately recognises smoke from a f...</td>\n",
       "    </tr>\n",
       "    <tr>\n",
       "      <th>8380</th>\n",
       "      <td>Ryan Taylor has spent the past two years on tr...</td>\n",
       "      <td>Newcastle manager Alan Pardew has confirmed Ry...</td>\n",
       "      <td>[Ryan Taylor has spent the past two years on t...</td>\n",
       "      <td>Ryan Taylor could make his first appearance o...</td>\n",
       "    </tr>\n",
       "    <tr>\n",
       "      <th>9481</th>\n",
       "      <td>Scobee. Josh Scobee. That’s how the Jacksonvil...</td>\n",
       "      <td>Josh Scobee has played in the NFL for 11 years...</td>\n",
       "      <td>[Scobee. Josh Scobee. That’s how the Jacksonvi...</td>\n",
       "      <td>Jacksonville Jaguars kicker Josh Scobee is th...</td>\n",
       "    </tr>\n",
       "    <tr>\n",
       "      <th>8572</th>\n",
       "      <td>Admission: Clive Goodman (pictured today) said...</td>\n",
       "      <td>Clive Goodman tells court he hacked voicemails...</td>\n",
       "      <td>[Admission: Clive Goodman (pictured today) sai...</td>\n",
       "      <td>Former News of the World royal. editor hacked...</td>\n",
       "    </tr>\n",
       "    <tr>\n",
       "      <th>12694</th>\n",
       "      <td>A teenager accused of shooting and stabbing an...</td>\n",
       "      <td>Maxwell Winkler has been arrested for the murd...</td>\n",
       "      <td>[A teenager accused of shooting and stabbing a...</td>\n",
       "      <td>Maxwell Winkler, 17, is accused of shooting a...</td>\n",
       "    </tr>\n",
       "    <tr>\n",
       "      <th>5170</th>\n",
       "      <td>Anthony Joshua believes his monastic lifestyle...</td>\n",
       "      <td>Anthony Joshua will mark his first anniversary...</td>\n",
       "      <td>[Anthony Joshua believes his monastic lifestyl...</td>\n",
       "      <td>Anthony Joshua takes on Denis Bakhtov for his...</td>\n",
       "    </tr>\n",
       "  </tbody>\n",
       "</table>\n",
       "</div>"
      ],
      "text/plain": [
       "                                                 article  \\\n",
       "7042   Silly stunt: Judy and the rubber chicken. Her ...   \n",
       "14424  Roger Federer put on a show for his fellow spo...   \n",
       "18989  A Chinese student has died after being found s...   \n",
       "11243  New radar images have shown that British colon...   \n",
       "15834  The future of smoke alarms will not only know ...   \n",
       "8380   Ryan Taylor has spent the past two years on tr...   \n",
       "9481   Scobee. Josh Scobee. That’s how the Jacksonvil...   \n",
       "8572   Admission: Clive Goodman (pictured today) said...   \n",
       "12694  A teenager accused of shooting and stabbing an...   \n",
       "5170   Anthony Joshua believes his monastic lifestyle...   \n",
       "\n",
       "                                              highlights  \\\n",
       "7042   Judy Murray's business deals could make her mo...   \n",
       "14424  Seven-time champion put on a masterclass on Ce...   \n",
       "18989  Body of Jiao Chin was found hanging over the f...   \n",
       "11243  A satellite survey of area around Albemarle So...   \n",
       "15834  AirGuard accurately distinguishes between ciga...   \n",
       "8380   Newcastle manager Alan Pardew has confirmed Ry...   \n",
       "9481   Josh Scobee has played in the NFL for 11 years...   \n",
       "8572   Clive Goodman tells court he hacked voicemails...   \n",
       "12694  Maxwell Winkler has been arrested for the murd...   \n",
       "5170   Anthony Joshua will mark his first anniversary...   \n",
       "\n",
       "                                                  chunks  \\\n",
       "7042   [Silly stunt: Judy and the rubber chicken. Her...   \n",
       "14424  [Roger Federer put on a show for his fellow sp...   \n",
       "18989  [A Chinese student has died after being found ...   \n",
       "11243  [New radar images have shown that British colo...   \n",
       "15834  [The future of smoke alarms will not only know...   \n",
       "8380   [Ryan Taylor has spent the past two years on t...   \n",
       "9481   [Scobee. Josh Scobee. That’s how the Jacksonvi...   \n",
       "8572   [Admission: Clive Goodman (pictured today) sai...   \n",
       "12694  [A teenager accused of shooting and stabbing a...   \n",
       "5170   [Anthony Joshua believes his monastic lifestyl...   \n",
       "\n",
       "                                           Summary_Model  \n",
       "7042    Judy Murray has taken on a Grand Slam of publ...  \n",
       "14424   Roger Federer took just 81 minutes to beat Sa...  \n",
       "18989   The body of Jiao Chin was found hanging over ...  \n",
       "11243   New radar images have shown that British colo...  \n",
       "15834   AirGuard accurately recognises smoke from a f...  \n",
       "8380    Ryan Taylor could make his first appearance o...  \n",
       "9481    Jacksonville Jaguars kicker Josh Scobee is th...  \n",
       "8572    Former News of the World royal. editor hacked...  \n",
       "12694   Maxwell Winkler, 17, is accused of shooting a...  \n",
       "5170    Anthony Joshua takes on Denis Bakhtov for his...  "
      ]
     },
     "execution_count": 18,
     "metadata": {},
     "output_type": "execute_result"
    }
   ],
   "source": [
    "df_sample"
   ]
  },
  {
   "cell_type": "code",
   "execution_count": 20,
   "id": "5eca0f3e",
   "metadata": {},
   "outputs": [],
   "source": [
    "df_sample.to_csv(\"sample_output.csv\", index=False)"
   ]
  },
  {
   "cell_type": "code",
   "execution_count": 12,
   "id": "5aee482c",
   "metadata": {
    "scrolled": true
   },
   "outputs": [
    {
     "name": "stdout",
     "output_type": "stream",
     "text": [
      "WARNING:tensorflow:From C:\\Users\\Samapti\\anaconda3\\Lib\\site-packages\\keras\\src\\losses.py:2976: The name tf.losses.sparse_softmax_cross_entropy is deprecated. Please use tf.compat.v1.losses.sparse_softmax_cross_entropy instead.\n",
      "\n"
     ]
    }
   ],
   "source": [
    "from transformers import pipeline\n",
    "\n",
    "summarizer = pipeline(\"summarization\", model=\"facebook/bart-large-cnn\")"
   ]
  },
  {
   "cell_type": "code",
   "execution_count": 15,
   "id": "903f47de",
   "metadata": {
    "scrolled": true
   },
   "outputs": [
    {
     "data": {
      "text/html": [
       "<div>\n",
       "<style scoped>\n",
       "    .dataframe tbody tr th:only-of-type {\n",
       "        vertical-align: middle;\n",
       "    }\n",
       "\n",
       "    .dataframe tbody tr th {\n",
       "        vertical-align: top;\n",
       "    }\n",
       "\n",
       "    .dataframe thead th {\n",
       "        text-align: right;\n",
       "    }\n",
       "</style>\n",
       "<table border=\"1\" class=\"dataframe\">\n",
       "  <thead>\n",
       "    <tr style=\"text-align: right;\">\n",
       "      <th></th>\n",
       "      <th>article</th>\n",
       "      <th>highlights</th>\n",
       "      <th>chunks</th>\n",
       "      <th>Summary_Model</th>\n",
       "      <th>Summary_Model_2</th>\n",
       "    </tr>\n",
       "  </thead>\n",
       "  <tbody>\n",
       "    <tr>\n",
       "      <th>0</th>\n",
       "      <td>Silly stunt: Judy and the rubber chicken. Her ...</td>\n",
       "      <td>Judy Murray's business deals could make her mo...</td>\n",
       "      <td>['Silly stunt: Judy and the rubber chicken. He...</td>\n",
       "      <td>Judy Murray has taken on a Grand Slam of publ...</td>\n",
       "      <td>Judy Murray has taken on a Grand Slam of publ...</td>\n",
       "    </tr>\n",
       "    <tr>\n",
       "      <th>1</th>\n",
       "      <td>Roger Federer put on a show for his fellow spo...</td>\n",
       "      <td>Seven-time champion put on a masterclass on Ce...</td>\n",
       "      <td>[\"Roger Federer put on a show for his fellow s...</td>\n",
       "      <td>Roger Federer took just 81 minutes to beat Sa...</td>\n",
       "      <td>Roger Federer took just 81 minutes to beat Sa...</td>\n",
       "    </tr>\n",
       "    <tr>\n",
       "      <th>2</th>\n",
       "      <td>A Chinese student has died after being found s...</td>\n",
       "      <td>Body of Jiao Chin was found hanging over the f...</td>\n",
       "      <td>[\"A Chinese student has died after being found...</td>\n",
       "      <td>The body of Jiao Chin was found hanging over ...</td>\n",
       "      <td>The body of Jiao Chin was found hanging over ...</td>\n",
       "    </tr>\n",
       "    <tr>\n",
       "      <th>3</th>\n",
       "      <td>New radar images have shown that British colon...</td>\n",
       "      <td>A satellite survey of area around Albemarle So...</td>\n",
       "      <td>[\"New radar images have shown that British col...</td>\n",
       "      <td>New radar images have shown that British colo...</td>\n",
       "      <td>New radar images have shown that British colo...</td>\n",
       "    </tr>\n",
       "    <tr>\n",
       "      <th>4</th>\n",
       "      <td>The future of smoke alarms will not only know ...</td>\n",
       "      <td>AirGuard accurately distinguishes between ciga...</td>\n",
       "      <td>[\"The future of smoke alarms will not only kno...</td>\n",
       "      <td>AirGuard accurately recognises smoke from a f...</td>\n",
       "      <td>AirGuard accurately recognises smoke from a f...</td>\n",
       "    </tr>\n",
       "    <tr>\n",
       "      <th>5</th>\n",
       "      <td>Ryan Taylor has spent the past two years on tr...</td>\n",
       "      <td>Newcastle manager Alan Pardew has confirmed Ry...</td>\n",
       "      <td>[\"Ryan Taylor has spent the past two years on ...</td>\n",
       "      <td>Ryan Taylor could make his first appearance o...</td>\n",
       "      <td>Ryan Taylor could make his first appearance o...</td>\n",
       "    </tr>\n",
       "    <tr>\n",
       "      <th>6</th>\n",
       "      <td>Scobee. Josh Scobee. That’s how the Jacksonvil...</td>\n",
       "      <td>Josh Scobee has played in the NFL for 11 years...</td>\n",
       "      <td>[\"Scobee. Josh Scobee. That’s how the Jacksonv...</td>\n",
       "      <td>Jacksonville Jaguars kicker Josh Scobee is th...</td>\n",
       "      <td>Jacksonville Jaguars kicker Josh Scobee is th...</td>\n",
       "    </tr>\n",
       "    <tr>\n",
       "      <th>7</th>\n",
       "      <td>Admission: Clive Goodman (pictured today) said...</td>\n",
       "      <td>Clive Goodman tells court he hacked voicemails...</td>\n",
       "      <td>[\"Admission: Clive Goodman (pictured today) sa...</td>\n",
       "      <td>Former News of the World royal. editor hacked...</td>\n",
       "      <td>Former News of the World royal. editor hacked...</td>\n",
       "    </tr>\n",
       "    <tr>\n",
       "      <th>8</th>\n",
       "      <td>A teenager accused of shooting and stabbing an...</td>\n",
       "      <td>Maxwell Winkler has been arrested for the murd...</td>\n",
       "      <td>[\"A teenager accused of shooting and stabbing ...</td>\n",
       "      <td>Maxwell Winkler, 17, is accused of shooting a...</td>\n",
       "      <td>Maxwell Winkler, 17, is accused of shooting a...</td>\n",
       "    </tr>\n",
       "    <tr>\n",
       "      <th>9</th>\n",
       "      <td>Anthony Joshua believes his monastic lifestyle...</td>\n",
       "      <td>Anthony Joshua will mark his first anniversary...</td>\n",
       "      <td>[\"Anthony Joshua believes his monastic lifesty...</td>\n",
       "      <td>Anthony Joshua takes on Denis Bakhtov for his...</td>\n",
       "      <td>Anthony Joshua takes on Denis Bakhtov for his...</td>\n",
       "    </tr>\n",
       "  </tbody>\n",
       "</table>\n",
       "</div>"
      ],
      "text/plain": [
       "                                             article  \\\n",
       "0  Silly stunt: Judy and the rubber chicken. Her ...   \n",
       "1  Roger Federer put on a show for his fellow spo...   \n",
       "2  A Chinese student has died after being found s...   \n",
       "3  New radar images have shown that British colon...   \n",
       "4  The future of smoke alarms will not only know ...   \n",
       "5  Ryan Taylor has spent the past two years on tr...   \n",
       "6  Scobee. Josh Scobee. That’s how the Jacksonvil...   \n",
       "7  Admission: Clive Goodman (pictured today) said...   \n",
       "8  A teenager accused of shooting and stabbing an...   \n",
       "9  Anthony Joshua believes his monastic lifestyle...   \n",
       "\n",
       "                                          highlights  \\\n",
       "0  Judy Murray's business deals could make her mo...   \n",
       "1  Seven-time champion put on a masterclass on Ce...   \n",
       "2  Body of Jiao Chin was found hanging over the f...   \n",
       "3  A satellite survey of area around Albemarle So...   \n",
       "4  AirGuard accurately distinguishes between ciga...   \n",
       "5  Newcastle manager Alan Pardew has confirmed Ry...   \n",
       "6  Josh Scobee has played in the NFL for 11 years...   \n",
       "7  Clive Goodman tells court he hacked voicemails...   \n",
       "8  Maxwell Winkler has been arrested for the murd...   \n",
       "9  Anthony Joshua will mark his first anniversary...   \n",
       "\n",
       "                                              chunks  \\\n",
       "0  ['Silly stunt: Judy and the rubber chicken. He...   \n",
       "1  [\"Roger Federer put on a show for his fellow s...   \n",
       "2  [\"A Chinese student has died after being found...   \n",
       "3  [\"New radar images have shown that British col...   \n",
       "4  [\"The future of smoke alarms will not only kno...   \n",
       "5  [\"Ryan Taylor has spent the past two years on ...   \n",
       "6  [\"Scobee. Josh Scobee. That’s how the Jacksonv...   \n",
       "7  [\"Admission: Clive Goodman (pictured today) sa...   \n",
       "8  [\"A teenager accused of shooting and stabbing ...   \n",
       "9  [\"Anthony Joshua believes his monastic lifesty...   \n",
       "\n",
       "                                       Summary_Model  \\\n",
       "0   Judy Murray has taken on a Grand Slam of publ...   \n",
       "1   Roger Federer took just 81 minutes to beat Sa...   \n",
       "2   The body of Jiao Chin was found hanging over ...   \n",
       "3   New radar images have shown that British colo...   \n",
       "4   AirGuard accurately recognises smoke from a f...   \n",
       "5   Ryan Taylor could make his first appearance o...   \n",
       "6   Jacksonville Jaguars kicker Josh Scobee is th...   \n",
       "7   Former News of the World royal. editor hacked...   \n",
       "8   Maxwell Winkler, 17, is accused of shooting a...   \n",
       "9   Anthony Joshua takes on Denis Bakhtov for his...   \n",
       "\n",
       "                                     Summary_Model_2  \n",
       "0   Judy Murray has taken on a Grand Slam of publ...  \n",
       "1   Roger Federer took just 81 minutes to beat Sa...  \n",
       "2   The body of Jiao Chin was found hanging over ...  \n",
       "3   New radar images have shown that British colo...  \n",
       "4   AirGuard accurately recognises smoke from a f...  \n",
       "5   Ryan Taylor could make his first appearance o...  \n",
       "6   Jacksonville Jaguars kicker Josh Scobee is th...  \n",
       "7   Former News of the World royal. editor hacked...  \n",
       "8   Maxwell Winkler, 17, is accused of shooting a...  \n",
       "9   Anthony Joshua takes on Denis Bakhtov for his...  "
      ]
     },
     "execution_count": 15,
     "metadata": {},
     "output_type": "execute_result"
    }
   ],
   "source": [
    "df_sample"
   ]
  },
  {
   "cell_type": "code",
   "execution_count": 23,
   "id": "75f0ba22",
   "metadata": {},
   "outputs": [],
   "source": [
    "import ast\n",
    "\n",
    "df_sample[\"chunks\"]=df_sample[\"chunks\"].apply(ast.literal_eval)"
   ]
  },
  {
   "cell_type": "markdown",
   "id": "55054d1a",
   "metadata": {},
   "source": [
    "Now we get summary for the chunks and then merge them to get the summary for large articles."
   ]
  },
  {
   "cell_type": "code",
   "execution_count": 24,
   "id": "9a7734ee",
   "metadata": {},
   "outputs": [
    {
     "name": "stdout",
     "output_type": "stream",
     "text": [
      "Execution time: 9.253791276613871 minutes\n"
     ]
    }
   ],
   "source": [
    "import time\n",
    "\n",
    "# Record start time\n",
    "start_time = time.time()\n",
    "\n",
    "def gen_sum(chunks):\n",
    "    for chunk in chunks:\n",
    "        outputs=\"\"\n",
    "        output=summarizer(chunk, max_length=250, min_length=30, do_sample=False)[0]['summary_text']\n",
    "        outputs=outputs+output+\" \"\n",
    "    return outputs\n",
    "\n",
    "df_sample[\"Summary_Model_2\"]=df_sample[\"chunks\"].apply(gen_sum)\n",
    "\n",
    "# Record end time\n",
    "end_time = time.time()\n",
    "\n",
    "# Calculate elapsed time\n",
    "elapsed_time = end_time - start_time\n",
    "\n",
    "print(\"Execution time:\", (elapsed_time/60), \"minutes\")"
   ]
  },
  {
   "cell_type": "code",
   "execution_count": 25,
   "id": "63e71d01",
   "metadata": {},
   "outputs": [
    {
     "data": {
      "text/html": [
       "<div>\n",
       "<style scoped>\n",
       "    .dataframe tbody tr th:only-of-type {\n",
       "        vertical-align: middle;\n",
       "    }\n",
       "\n",
       "    .dataframe tbody tr th {\n",
       "        vertical-align: top;\n",
       "    }\n",
       "\n",
       "    .dataframe thead th {\n",
       "        text-align: right;\n",
       "    }\n",
       "</style>\n",
       "<table border=\"1\" class=\"dataframe\">\n",
       "  <thead>\n",
       "    <tr style=\"text-align: right;\">\n",
       "      <th></th>\n",
       "      <th>article</th>\n",
       "      <th>highlights</th>\n",
       "      <th>chunks</th>\n",
       "      <th>Summary_Model</th>\n",
       "      <th>Summary_Model_2</th>\n",
       "    </tr>\n",
       "  </thead>\n",
       "  <tbody>\n",
       "    <tr>\n",
       "      <th>0</th>\n",
       "      <td>Silly stunt: Judy and the rubber chicken. Her ...</td>\n",
       "      <td>Judy Murray's business deals could make her mo...</td>\n",
       "      <td>[Silly stunt: Judy and the rubber chicken. Her...</td>\n",
       "      <td>Judy Murray has taken on a Grand Slam of publ...</td>\n",
       "      <td>Andy Murray's mum Judy has taken on a Grand Sl...</td>\n",
       "    </tr>\n",
       "    <tr>\n",
       "      <th>1</th>\n",
       "      <td>Roger Federer put on a show for his fellow spo...</td>\n",
       "      <td>Seven-time champion put on a masterclass on Ce...</td>\n",
       "      <td>[Roger Federer put on a show for his fellow sp...</td>\n",
       "      <td>Roger Federer took just 81 minutes to beat Sa...</td>\n",
       "      <td>Roger Federer beat Santiago Giraldo 6-3 6-1 6-...</td>\n",
       "    </tr>\n",
       "    <tr>\n",
       "      <th>2</th>\n",
       "      <td>A Chinese student has died after being found s...</td>\n",
       "      <td>Body of Jiao Chin was found hanging over the f...</td>\n",
       "      <td>[A Chinese student has died after being found ...</td>\n",
       "      <td>The body of Jiao Chin was found hanging over ...</td>\n",
       "      <td>Jiao Chin was found slumped over an electric f...</td>\n",
       "    </tr>\n",
       "    <tr>\n",
       "      <th>3</th>\n",
       "      <td>New radar images have shown that British colon...</td>\n",
       "      <td>A satellite survey of area around Albemarle So...</td>\n",
       "      <td>[New radar images have shown that British colo...</td>\n",
       "      <td>New radar images have shown that British colo...</td>\n",
       "      <td>Roanoke Colony was an attempt by Queen Elizabe...</td>\n",
       "    </tr>\n",
       "    <tr>\n",
       "      <th>4</th>\n",
       "      <td>The future of smoke alarms will not only know ...</td>\n",
       "      <td>AirGuard accurately distinguishes between ciga...</td>\n",
       "      <td>[The future of smoke alarms will not only know...</td>\n",
       "      <td>AirGuard accurately recognises smoke from a f...</td>\n",
       "      <td>AirGuard accurately recognises smoke from a fi...</td>\n",
       "    </tr>\n",
       "    <tr>\n",
       "      <th>5</th>\n",
       "      <td>Ryan Taylor has spent the past two years on tr...</td>\n",
       "      <td>Newcastle manager Alan Pardew has confirmed Ry...</td>\n",
       "      <td>[Ryan Taylor has spent the past two years on t...</td>\n",
       "      <td>Ryan Taylor could make his first appearance o...</td>\n",
       "      <td>Ryan Taylor has not played in the Premier Leag...</td>\n",
       "    </tr>\n",
       "    <tr>\n",
       "      <th>6</th>\n",
       "      <td>Scobee. Josh Scobee. That’s how the Jacksonvil...</td>\n",
       "      <td>Josh Scobee has played in the NFL for 11 years...</td>\n",
       "      <td>[Scobee. Josh Scobee. That’s how the Jacksonvi...</td>\n",
       "      <td>Jacksonville Jaguars kicker Josh Scobee is th...</td>\n",
       "      <td>Josh Scobee is Jacksonville Jaguars' all-time ...</td>\n",
       "    </tr>\n",
       "    <tr>\n",
       "      <th>7</th>\n",
       "      <td>Admission: Clive Goodman (pictured today) said...</td>\n",
       "      <td>Clive Goodman tells court he hacked voicemails...</td>\n",
       "      <td>[Admission: Clive Goodman (pictured today) sai...</td>\n",
       "      <td>Former News of the World royal. editor hacked...</td>\n",
       "      <td>Former News of the World royal . editor hacked...</td>\n",
       "    </tr>\n",
       "    <tr>\n",
       "      <th>8</th>\n",
       "      <td>A teenager accused of shooting and stabbing an...</td>\n",
       "      <td>Maxwell Winkler has been arrested for the murd...</td>\n",
       "      <td>[A teenager accused of shooting and stabbing a...</td>\n",
       "      <td>Maxwell Winkler, 17, is accused of shooting a...</td>\n",
       "      <td>Henry Kim's body was found by a dogwalker at W...</td>\n",
       "    </tr>\n",
       "    <tr>\n",
       "      <th>9</th>\n",
       "      <td>Anthony Joshua believes his monastic lifestyle...</td>\n",
       "      <td>Anthony Joshua will mark his first anniversary...</td>\n",
       "      <td>[Anthony Joshua believes his monastic lifestyl...</td>\n",
       "      <td>Anthony Joshua takes on Denis Bakhtov for his...</td>\n",
       "      <td>Anthony Joshua takes on Denis Bakhtov at the O...</td>\n",
       "    </tr>\n",
       "  </tbody>\n",
       "</table>\n",
       "</div>"
      ],
      "text/plain": [
       "                                             article  \\\n",
       "0  Silly stunt: Judy and the rubber chicken. Her ...   \n",
       "1  Roger Federer put on a show for his fellow spo...   \n",
       "2  A Chinese student has died after being found s...   \n",
       "3  New radar images have shown that British colon...   \n",
       "4  The future of smoke alarms will not only know ...   \n",
       "5  Ryan Taylor has spent the past two years on tr...   \n",
       "6  Scobee. Josh Scobee. That’s how the Jacksonvil...   \n",
       "7  Admission: Clive Goodman (pictured today) said...   \n",
       "8  A teenager accused of shooting and stabbing an...   \n",
       "9  Anthony Joshua believes his monastic lifestyle...   \n",
       "\n",
       "                                          highlights  \\\n",
       "0  Judy Murray's business deals could make her mo...   \n",
       "1  Seven-time champion put on a masterclass on Ce...   \n",
       "2  Body of Jiao Chin was found hanging over the f...   \n",
       "3  A satellite survey of area around Albemarle So...   \n",
       "4  AirGuard accurately distinguishes between ciga...   \n",
       "5  Newcastle manager Alan Pardew has confirmed Ry...   \n",
       "6  Josh Scobee has played in the NFL for 11 years...   \n",
       "7  Clive Goodman tells court he hacked voicemails...   \n",
       "8  Maxwell Winkler has been arrested for the murd...   \n",
       "9  Anthony Joshua will mark his first anniversary...   \n",
       "\n",
       "                                              chunks  \\\n",
       "0  [Silly stunt: Judy and the rubber chicken. Her...   \n",
       "1  [Roger Federer put on a show for his fellow sp...   \n",
       "2  [A Chinese student has died after being found ...   \n",
       "3  [New radar images have shown that British colo...   \n",
       "4  [The future of smoke alarms will not only know...   \n",
       "5  [Ryan Taylor has spent the past two years on t...   \n",
       "6  [Scobee. Josh Scobee. That’s how the Jacksonvi...   \n",
       "7  [Admission: Clive Goodman (pictured today) sai...   \n",
       "8  [A teenager accused of shooting and stabbing a...   \n",
       "9  [Anthony Joshua believes his monastic lifestyl...   \n",
       "\n",
       "                                       Summary_Model  \\\n",
       "0   Judy Murray has taken on a Grand Slam of publ...   \n",
       "1   Roger Federer took just 81 minutes to beat Sa...   \n",
       "2   The body of Jiao Chin was found hanging over ...   \n",
       "3   New radar images have shown that British colo...   \n",
       "4   AirGuard accurately recognises smoke from a f...   \n",
       "5   Ryan Taylor could make his first appearance o...   \n",
       "6   Jacksonville Jaguars kicker Josh Scobee is th...   \n",
       "7   Former News of the World royal. editor hacked...   \n",
       "8   Maxwell Winkler, 17, is accused of shooting a...   \n",
       "9   Anthony Joshua takes on Denis Bakhtov for his...   \n",
       "\n",
       "                                     Summary_Model_2  \n",
       "0  Andy Murray's mum Judy has taken on a Grand Sl...  \n",
       "1  Roger Federer beat Santiago Giraldo 6-3 6-1 6-...  \n",
       "2  Jiao Chin was found slumped over an electric f...  \n",
       "3  Roanoke Colony was an attempt by Queen Elizabe...  \n",
       "4  AirGuard accurately recognises smoke from a fi...  \n",
       "5  Ryan Taylor has not played in the Premier Leag...  \n",
       "6  Josh Scobee is Jacksonville Jaguars' all-time ...  \n",
       "7  Former News of the World royal . editor hacked...  \n",
       "8  Henry Kim's body was found by a dogwalker at W...  \n",
       "9  Anthony Joshua takes on Denis Bakhtov at the O...  "
      ]
     },
     "execution_count": 25,
     "metadata": {},
     "output_type": "execute_result"
    }
   ],
   "source": [
    "df_sample"
   ]
  },
  {
   "cell_type": "code",
   "execution_count": 26,
   "id": "8f236e35",
   "metadata": {},
   "outputs": [],
   "source": [
    "df_sample.to_csv(\"sample_output.csv\", index=False)"
   ]
  },
  {
   "cell_type": "code",
   "execution_count": 27,
   "id": "2bf598fa",
   "metadata": {
    "scrolled": false
   },
   "outputs": [
    {
     "data": {
      "text/plain": [
       "{'rouge-1': {'r': 0.40394579041426343,\n",
       "  'p': 0.3624661966084476,\n",
       "  'f': 0.3773717029035086},\n",
       " 'rouge-2': {'r': 0.16167649263443787,\n",
       "  'p': 0.13986373813334135,\n",
       "  'f': 0.14863700630685708},\n",
       " 'rouge-l': {'r': 0.3696341646475293,\n",
       "  'p': 0.33407326833685397,\n",
       "  'f': 0.34687733838745827}}"
      ]
     },
     "execution_count": 27,
     "metadata": {},
     "output_type": "execute_result"
    }
   ],
   "source": [
    "model_out_2 = df_sample[\"Summary_Model_2\"].tolist()\n",
    "\n",
    "reference = df_sample[\"highlights\"].tolist()\n",
    "\n",
    "from rouge import Rouge\n",
    "\n",
    "rouge = Rouge()\n",
    "\n",
    "rouge.get_scores(model_out_2, reference, avg=True)"
   ]
  },
  {
   "cell_type": "markdown",
   "id": "1b0525b8",
   "metadata": {},
   "source": [
    "Rogue score. We need to check for more efficient metric as well."
   ]
  }
 ],
 "metadata": {
  "kernelspec": {
   "display_name": "Python 3 (ipykernel)",
   "language": "python",
   "name": "python3"
  },
  "language_info": {
   "codemirror_mode": {
    "name": "ipython",
    "version": 3
   },
   "file_extension": ".py",
   "mimetype": "text/x-python",
   "name": "python",
   "nbconvert_exporter": "python",
   "pygments_lexer": "ipython3",
   "version": "3.11.5"
  }
 },
 "nbformat": 4,
 "nbformat_minor": 5
}
